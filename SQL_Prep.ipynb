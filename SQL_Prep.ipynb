{
    "metadata": {
        "kernelspec": {
            "name": "SQL",
            "display_name": "SQL",
            "language": "sql"
        },
        "language_info": {
            "name": "sql",
            "version": ""
        }
    },
    "nbformat_minor": 2,
    "nbformat": 4,
    "cells": [
        {
            "cell_type": "code",
            "source": [
                "select top 10 * from INFORMATION_SCHEMA.COLUMNS"
            ],
            "metadata": {
                "azdata_cell_guid": "bb5cf761-3bf8-4e9f-91ed-aa09547f8f37",
                "language": "sql"
            },
            "outputs": [
                {
                    "output_type": "display_data",
                    "data": {
                        "text/html": "(10 rows affected)"
                    },
                    "metadata": {}
                },
                {
                    "output_type": "display_data",
                    "data": {
                        "text/html": "Total execution time: 00:00:00.015"
                    },
                    "metadata": {}
                },
                {
                    "output_type": "execute_result",
                    "metadata": {},
                    "execution_count": 4,
                    "data": {
                        "application/vnd.dataresource+json": {
                            "schema": {
                                "fields": [
                                    {
                                        "name": "TABLE_CATALOG"
                                    },
                                    {
                                        "name": "TABLE_SCHEMA"
                                    },
                                    {
                                        "name": "TABLE_NAME"
                                    },
                                    {
                                        "name": "COLUMN_NAME"
                                    },
                                    {
                                        "name": "ORDINAL_POSITION"
                                    },
                                    {
                                        "name": "COLUMN_DEFAULT"
                                    },
                                    {
                                        "name": "IS_NULLABLE"
                                    },
                                    {
                                        "name": "DATA_TYPE"
                                    },
                                    {
                                        "name": "CHARACTER_MAXIMUM_LENGTH"
                                    },
                                    {
                                        "name": "CHARACTER_OCTET_LENGTH"
                                    },
                                    {
                                        "name": "NUMERIC_PRECISION"
                                    },
                                    {
                                        "name": "NUMERIC_PRECISION_RADIX"
                                    },
                                    {
                                        "name": "NUMERIC_SCALE"
                                    },
                                    {
                                        "name": "DATETIME_PRECISION"
                                    },
                                    {
                                        "name": "CHARACTER_SET_CATALOG"
                                    },
                                    {
                                        "name": "CHARACTER_SET_SCHEMA"
                                    },
                                    {
                                        "name": "CHARACTER_SET_NAME"
                                    },
                                    {
                                        "name": "COLLATION_CATALOG"
                                    },
                                    {
                                        "name": "COLLATION_SCHEMA"
                                    },
                                    {
                                        "name": "COLLATION_NAME"
                                    },
                                    {
                                        "name": "DOMAIN_CATALOG"
                                    },
                                    {
                                        "name": "DOMAIN_SCHEMA"
                                    },
                                    {
                                        "name": "DOMAIN_NAME"
                                    }
                                ]
                            },
                            "data": [
                                {
                                    "0": "Denver Crime",
                                    "1": "dbo",
                                    "2": "Land_Transfer",
                                    "3": "PARID",
                                    "4": "1",
                                    "5": "NULL",
                                    "6": "YES",
                                    "7": "nvarchar",
                                    "8": "255",
                                    "9": "510",
                                    "10": "NULL",
                                    "11": "NULL",
                                    "12": "NULL",
                                    "13": "NULL",
                                    "14": "NULL",
                                    "15": "NULL",
                                    "16": "UNICODE",
                                    "17": "NULL",
                                    "18": "NULL",
                                    "19": "SQL_Latin1_General_CP1_CI_AS",
                                    "20": "NULL",
                                    "21": "NULL",
                                    "22": "NULL"
                                },
                                {
                                    "0": "Denver Crime",
                                    "1": "dbo",
                                    "2": "Land_Transfer",
                                    "3": "RECEPTION_NUM",
                                    "4": "2",
                                    "5": "NULL",
                                    "6": "YES",
                                    "7": "nvarchar",
                                    "8": "255",
                                    "9": "510",
                                    "10": "NULL",
                                    "11": "NULL",
                                    "12": "NULL",
                                    "13": "NULL",
                                    "14": "NULL",
                                    "15": "NULL",
                                    "16": "UNICODE",
                                    "17": "NULL",
                                    "18": "NULL",
                                    "19": "SQL_Latin1_General_CP1_CI_AS",
                                    "20": "NULL",
                                    "21": "NULL",
                                    "22": "NULL"
                                },
                                {
                                    "0": "Denver Crime",
                                    "1": "dbo",
                                    "2": "Land_Transfer",
                                    "3": "INSTRUMENT",
                                    "4": "3",
                                    "5": "NULL",
                                    "6": "YES",
                                    "7": "nvarchar",
                                    "8": "255",
                                    "9": "510",
                                    "10": "NULL",
                                    "11": "NULL",
                                    "12": "NULL",
                                    "13": "NULL",
                                    "14": "NULL",
                                    "15": "NULL",
                                    "16": "UNICODE",
                                    "17": "NULL",
                                    "18": "NULL",
                                    "19": "SQL_Latin1_General_CP1_CI_AS",
                                    "20": "NULL",
                                    "21": "NULL",
                                    "22": "NULL"
                                },
                                {
                                    "0": "Denver Crime",
                                    "1": "dbo",
                                    "2": "Land_Transfer",
                                    "3": "SALE_YEAR",
                                    "4": "4",
                                    "5": "NULL",
                                    "6": "YES",
                                    "7": "float",
                                    "8": "NULL",
                                    "9": "NULL",
                                    "10": "53",
                                    "11": "2",
                                    "12": "NULL",
                                    "13": "NULL",
                                    "14": "NULL",
                                    "15": "NULL",
                                    "16": "NULL",
                                    "17": "NULL",
                                    "18": "NULL",
                                    "19": "NULL",
                                    "20": "NULL",
                                    "21": "NULL",
                                    "22": "NULL"
                                },
                                {
                                    "0": "Denver Crime",
                                    "1": "dbo",
                                    "2": "Land_Transfer",
                                    "3": "SALE_MONTHDAY",
                                    "4": "5",
                                    "5": "NULL",
                                    "6": "YES",
                                    "7": "nvarchar",
                                    "8": "255",
                                    "9": "510",
                                    "10": "NULL",
                                    "11": "NULL",
                                    "12": "NULL",
                                    "13": "NULL",
                                    "14": "NULL",
                                    "15": "NULL",
                                    "16": "UNICODE",
                                    "17": "NULL",
                                    "18": "NULL",
                                    "19": "SQL_Latin1_General_CP1_CI_AS",
                                    "20": "NULL",
                                    "21": "NULL",
                                    "22": "NULL"
                                },
                                {
                                    "0": "Denver Crime",
                                    "1": "dbo",
                                    "2": "Land_Transfer",
                                    "3": "RECEPTION_DATE",
                                    "4": "6",
                                    "5": "NULL",
                                    "6": "YES",
                                    "7": "nvarchar",
                                    "8": "255",
                                    "9": "510",
                                    "10": "NULL",
                                    "11": "NULL",
                                    "12": "NULL",
                                    "13": "NULL",
                                    "14": "NULL",
                                    "15": "NULL",
                                    "16": "UNICODE",
                                    "17": "NULL",
                                    "18": "NULL",
                                    "19": "SQL_Latin1_General_CP1_CI_AS",
                                    "20": "NULL",
                                    "21": "NULL",
                                    "22": "NULL"
                                },
                                {
                                    "0": "Denver Crime",
                                    "1": "dbo",
                                    "2": "Land_Transfer",
                                    "3": "SALE_PRICE",
                                    "4": "7",
                                    "5": "NULL",
                                    "6": "YES",
                                    "7": "float",
                                    "8": "NULL",
                                    "9": "NULL",
                                    "10": "53",
                                    "11": "2",
                                    "12": "NULL",
                                    "13": "NULL",
                                    "14": "NULL",
                                    "15": "NULL",
                                    "16": "NULL",
                                    "17": "NULL",
                                    "18": "NULL",
                                    "19": "NULL",
                                    "20": "NULL",
                                    "21": "NULL",
                                    "22": "NULL"
                                },
                                {
                                    "0": "Denver Crime",
                                    "1": "dbo",
                                    "2": "Land_Transfer",
                                    "3": "GRANTOR",
                                    "4": "8",
                                    "5": "NULL",
                                    "6": "YES",
                                    "7": "nvarchar",
                                    "8": "255",
                                    "9": "510",
                                    "10": "NULL",
                                    "11": "NULL",
                                    "12": "NULL",
                                    "13": "NULL",
                                    "14": "NULL",
                                    "15": "NULL",
                                    "16": "UNICODE",
                                    "17": "NULL",
                                    "18": "NULL",
                                    "19": "SQL_Latin1_General_CP1_CI_AS",
                                    "20": "NULL",
                                    "21": "NULL",
                                    "22": "NULL"
                                },
                                {
                                    "0": "Denver Crime",
                                    "1": "dbo",
                                    "2": "Land_Transfer",
                                    "3": "GRANTEE",
                                    "4": "9",
                                    "5": "NULL",
                                    "6": "YES",
                                    "7": "nvarchar",
                                    "8": "255",
                                    "9": "510",
                                    "10": "NULL",
                                    "11": "NULL",
                                    "12": "NULL",
                                    "13": "NULL",
                                    "14": "NULL",
                                    "15": "NULL",
                                    "16": "UNICODE",
                                    "17": "NULL",
                                    "18": "NULL",
                                    "19": "SQL_Latin1_General_CP1_CI_AS",
                                    "20": "NULL",
                                    "21": "NULL",
                                    "22": "NULL"
                                },
                                {
                                    "0": "Denver Crime",
                                    "1": "dbo",
                                    "2": "Land_Transfer",
                                    "3": "CLASS",
                                    "4": "10",
                                    "5": "NULL",
                                    "6": "YES",
                                    "7": "nvarchar",
                                    "8": "255",
                                    "9": "510",
                                    "10": "NULL",
                                    "11": "NULL",
                                    "12": "NULL",
                                    "13": "NULL",
                                    "14": "NULL",
                                    "15": "NULL",
                                    "16": "UNICODE",
                                    "17": "NULL",
                                    "18": "NULL",
                                    "19": "SQL_Latin1_General_CP1_CI_AS",
                                    "20": "NULL",
                                    "21": "NULL",
                                    "22": "NULL"
                                }
                            ]
                        },
                        "text/html": [
                            "<table>",
                            "<tr><th>TABLE_CATALOG</th><th>TABLE_SCHEMA</th><th>TABLE_NAME</th><th>COLUMN_NAME</th><th>ORDINAL_POSITION</th><th>COLUMN_DEFAULT</th><th>IS_NULLABLE</th><th>DATA_TYPE</th><th>CHARACTER_MAXIMUM_LENGTH</th><th>CHARACTER_OCTET_LENGTH</th><th>NUMERIC_PRECISION</th><th>NUMERIC_PRECISION_RADIX</th><th>NUMERIC_SCALE</th><th>DATETIME_PRECISION</th><th>CHARACTER_SET_CATALOG</th><th>CHARACTER_SET_SCHEMA</th><th>CHARACTER_SET_NAME</th><th>COLLATION_CATALOG</th><th>COLLATION_SCHEMA</th><th>COLLATION_NAME</th><th>DOMAIN_CATALOG</th><th>DOMAIN_SCHEMA</th><th>DOMAIN_NAME</th></tr>",
                            "<tr><td>Denver Crime</td><td>dbo</td><td>Land_Transfer</td><td>PARID</td><td>1</td><td>NULL</td><td>YES</td><td>nvarchar</td><td>255</td><td>510</td><td>NULL</td><td>NULL</td><td>NULL</td><td>NULL</td><td>NULL</td><td>NULL</td><td>UNICODE</td><td>NULL</td><td>NULL</td><td>SQL_Latin1_General_CP1_CI_AS</td><td>NULL</td><td>NULL</td><td>NULL</td></tr>",
                            "<tr><td>Denver Crime</td><td>dbo</td><td>Land_Transfer</td><td>RECEPTION_NUM</td><td>2</td><td>NULL</td><td>YES</td><td>nvarchar</td><td>255</td><td>510</td><td>NULL</td><td>NULL</td><td>NULL</td><td>NULL</td><td>NULL</td><td>NULL</td><td>UNICODE</td><td>NULL</td><td>NULL</td><td>SQL_Latin1_General_CP1_CI_AS</td><td>NULL</td><td>NULL</td><td>NULL</td></tr>",
                            "<tr><td>Denver Crime</td><td>dbo</td><td>Land_Transfer</td><td>INSTRUMENT</td><td>3</td><td>NULL</td><td>YES</td><td>nvarchar</td><td>255</td><td>510</td><td>NULL</td><td>NULL</td><td>NULL</td><td>NULL</td><td>NULL</td><td>NULL</td><td>UNICODE</td><td>NULL</td><td>NULL</td><td>SQL_Latin1_General_CP1_CI_AS</td><td>NULL</td><td>NULL</td><td>NULL</td></tr>",
                            "<tr><td>Denver Crime</td><td>dbo</td><td>Land_Transfer</td><td>SALE_YEAR</td><td>4</td><td>NULL</td><td>YES</td><td>float</td><td>NULL</td><td>NULL</td><td>53</td><td>2</td><td>NULL</td><td>NULL</td><td>NULL</td><td>NULL</td><td>NULL</td><td>NULL</td><td>NULL</td><td>NULL</td><td>NULL</td><td>NULL</td><td>NULL</td></tr>",
                            "<tr><td>Denver Crime</td><td>dbo</td><td>Land_Transfer</td><td>SALE_MONTHDAY</td><td>5</td><td>NULL</td><td>YES</td><td>nvarchar</td><td>255</td><td>510</td><td>NULL</td><td>NULL</td><td>NULL</td><td>NULL</td><td>NULL</td><td>NULL</td><td>UNICODE</td><td>NULL</td><td>NULL</td><td>SQL_Latin1_General_CP1_CI_AS</td><td>NULL</td><td>NULL</td><td>NULL</td></tr>",
                            "<tr><td>Denver Crime</td><td>dbo</td><td>Land_Transfer</td><td>RECEPTION_DATE</td><td>6</td><td>NULL</td><td>YES</td><td>nvarchar</td><td>255</td><td>510</td><td>NULL</td><td>NULL</td><td>NULL</td><td>NULL</td><td>NULL</td><td>NULL</td><td>UNICODE</td><td>NULL</td><td>NULL</td><td>SQL_Latin1_General_CP1_CI_AS</td><td>NULL</td><td>NULL</td><td>NULL</td></tr>",
                            "<tr><td>Denver Crime</td><td>dbo</td><td>Land_Transfer</td><td>SALE_PRICE</td><td>7</td><td>NULL</td><td>YES</td><td>float</td><td>NULL</td><td>NULL</td><td>53</td><td>2</td><td>NULL</td><td>NULL</td><td>NULL</td><td>NULL</td><td>NULL</td><td>NULL</td><td>NULL</td><td>NULL</td><td>NULL</td><td>NULL</td><td>NULL</td></tr>",
                            "<tr><td>Denver Crime</td><td>dbo</td><td>Land_Transfer</td><td>GRANTOR</td><td>8</td><td>NULL</td><td>YES</td><td>nvarchar</td><td>255</td><td>510</td><td>NULL</td><td>NULL</td><td>NULL</td><td>NULL</td><td>NULL</td><td>NULL</td><td>UNICODE</td><td>NULL</td><td>NULL</td><td>SQL_Latin1_General_CP1_CI_AS</td><td>NULL</td><td>NULL</td><td>NULL</td></tr>",
                            "<tr><td>Denver Crime</td><td>dbo</td><td>Land_Transfer</td><td>GRANTEE</td><td>9</td><td>NULL</td><td>YES</td><td>nvarchar</td><td>255</td><td>510</td><td>NULL</td><td>NULL</td><td>NULL</td><td>NULL</td><td>NULL</td><td>NULL</td><td>UNICODE</td><td>NULL</td><td>NULL</td><td>SQL_Latin1_General_CP1_CI_AS</td><td>NULL</td><td>NULL</td><td>NULL</td></tr>",
                            "<tr><td>Denver Crime</td><td>dbo</td><td>Land_Transfer</td><td>CLASS</td><td>10</td><td>NULL</td><td>YES</td><td>nvarchar</td><td>255</td><td>510</td><td>NULL</td><td>NULL</td><td>NULL</td><td>NULL</td><td>NULL</td><td>NULL</td><td>UNICODE</td><td>NULL</td><td>NULL</td><td>SQL_Latin1_General_CP1_CI_AS</td><td>NULL</td><td>NULL</td><td>NULL</td></tr>",
                            "</table>"
                        ]
                    }
                }
            ],
            "execution_count": 4
        },
        {
            "cell_type": "code",
            "source": [
                "SELECT top 15 *\r\n",
                "FROM crime2010"
            ],
            "metadata": {
                "language": "sql",
                "azdata_cell_guid": "3954c07f-6b19-4955-abdf-0e4f69241889",
                "tags": []
            },
            "outputs": [
                {
                    "output_type": "display_data",
                    "data": {
                        "text/html": "(15 rows affected)"
                    },
                    "metadata": {}
                },
                {
                    "output_type": "display_data",
                    "data": {
                        "text/html": "Total execution time: 00:00:00.008"
                    },
                    "metadata": {}
                },
                {
                    "output_type": "execute_result",
                    "metadata": {},
                    "execution_count": 5,
                    "data": {
                        "application/vnd.dataresource+json": {
                            "schema": {
                                "fields": [
                                    {
                                        "name": "incident_id"
                                    },
                                    {
                                        "name": "offense_id"
                                    },
                                    {
                                        "name": "OFFENSE_CODE"
                                    },
                                    {
                                        "name": "OFFENSE_CODE_EXTENSION"
                                    },
                                    {
                                        "name": "OFFENSE_TYPE_ID"
                                    },
                                    {
                                        "name": "OFFENSE_CATEGORY_ID"
                                    },
                                    {
                                        "name": "FIRST_OCCURRENCE_DATE"
                                    },
                                    {
                                        "name": "LAST_OCCURRENCE_DATE"
                                    },
                                    {
                                        "name": "REPORTED_DATE"
                                    },
                                    {
                                        "name": "INCIDENT_ADDRESS"
                                    },
                                    {
                                        "name": "GEO_X"
                                    },
                                    {
                                        "name": "GEO_Y"
                                    },
                                    {
                                        "name": "GEO_LON"
                                    },
                                    {
                                        "name": "GEO_LAT"
                                    },
                                    {
                                        "name": "DISTRICT_ID"
                                    },
                                    {
                                        "name": "PRECINCT_ID"
                                    },
                                    {
                                        "name": "NEIGHBORHOOD_ID"
                                    },
                                    {
                                        "name": "IS_CRIME"
                                    },
                                    {
                                        "name": "IS_TRAFFIC"
                                    },
                                    {
                                        "name": "VICTIM_COUNT"
                                    }
                                ]
                            },
                            "data": [
                                {
                                    "0": "2010573988",
                                    "1": "2010573988131600",
                                    "2": "1316",
                                    "3": "0",
                                    "4": "threats-to-injure",
                                    "5": "public-disorder",
                                    "6": "2010-11-18 18:00:00.000",
                                    "7": "2010-11-18 18:10:00.000",
                                    "8": "2010-11-18 19:51:00.000",
                                    "9": "3100 BLK N LOWELL BLVD",
                                    "10": "3130861",
                                    "11": "1702583",
                                    "12": "-105.0345258",
                                    "13": "39.7614758",
                                    "14": "1",
                                    "15": "113",
                                    "16": "west-highland",
                                    "17": "1",
                                    "18": "0",
                                    "19": "1"
                                },
                                {
                                    "0": "2010474282",
                                    "1": "2010474282131600",
                                    "2": "1316",
                                    "3": "0",
                                    "4": "threats-to-injure",
                                    "5": "public-disorder",
                                    "6": "2010-09-21 11:30:00.000",
                                    "7": "NULL",
                                    "8": "2010-09-21 14:23:00.000",
                                    "9": "6801 E MISSISSIPPI AVE",
                                    "10": "3166178",
                                    "11": "1679337",
                                    "12": "-104.9094434",
                                    "13": "39.6970976",
                                    "14": "3",
                                    "15": "322",
                                    "16": "washington-virginia-vale",
                                    "17": "1",
                                    "18": "0",
                                    "19": "1"
                                },
                                {
                                    "0": "2010524977",
                                    "1": "2010524977131600",
                                    "2": "1316",
                                    "3": "0",
                                    "4": "threats-to-injure",
                                    "5": "public-disorder",
                                    "6": "2010-10-20 20:30:00.000",
                                    "7": "NULL",
                                    "8": "2010-10-20 21:28:00.000",
                                    "9": "2697 W ALAMEDA AVE",
                                    "10": "3135040",
                                    "11": "1684383",
                                    "12": "-105.0200033",
                                    "13": "39.7114536",
                                    "14": "4",
                                    "15": "411",
                                    "16": "valverde",
                                    "17": "1",
                                    "18": "0",
                                    "19": "1"
                                },
                                {
                                    "0": "2010434045",
                                    "1": "2010434045131600",
                                    "2": "1316",
                                    "3": "0",
                                    "4": "threats-to-injure",
                                    "5": "public-disorder",
                                    "6": "2010-08-29 08:00:00.000",
                                    "7": "2010-08-29 08:30:00.000",
                                    "8": "2010-08-29 10:11:00.000",
                                    "9": "2440 S MILWAUKEE ST",
                                    "10": "3154288",
                                    "11": "1670186",
                                    "12": "-104.9518928",
                                    "13": "39.6721806",
                                    "14": "3",
                                    "15": "314",
                                    "16": "university-park",
                                    "17": "1",
                                    "18": "0",
                                    "19": "2"
                                },
                                {
                                    "0": "2010436317",
                                    "1": "2010436317131600",
                                    "2": "1316",
                                    "3": "0",
                                    "4": "threats-to-injure",
                                    "5": "public-disorder",
                                    "6": "2010-08-30 10:00:00.000",
                                    "7": "2010-08-30 10:15:00.000",
                                    "8": "2010-08-30 16:51:00.000",
                                    "9": "9105 E LEHIGH AVE",
                                    "10": "3173893",
                                    "11": "1661749",
                                    "12": "-104.8824519",
                                    "13": "39.6486737",
                                    "14": "3",
                                    "15": "324",
                                    "16": "hampden-south",
                                    "17": "1",
                                    "18": "0",
                                    "19": "1"
                                },
                                {
                                    "0": "2010263502",
                                    "1": "2010263502131600",
                                    "2": "1316",
                                    "3": "0",
                                    "4": "threats-to-injure",
                                    "5": "public-disorder",
                                    "6": "2010-06-01 16:44:00.000",
                                    "7": "NULL",
                                    "8": "2010-06-01 17:43:00.000",
                                    "9": "2975 N HOLLY ST",
                                    "10": "3162328",
                                    "11": "1702148",
                                    "12": "-104.9226098",
                                    "13": "39.7597858",
                                    "14": "2",
                                    "15": "221",
                                    "16": "north-park-hill",
                                    "17": "1",
                                    "18": "0",
                                    "19": "1"
                                },
                                {
                                    "0": "2010528686",
                                    "1": "2010528686131600",
                                    "2": "1316",
                                    "3": "0",
                                    "4": "threats-to-injure",
                                    "5": "public-disorder",
                                    "6": "2010-10-22 21:00:00.000",
                                    "7": "NULL",
                                    "8": "2010-10-22 23:06:00.000",
                                    "9": "1430 N HUMBOLDT ST",
                                    "10": "3149267",
                                    "11": "1694479",
                                    "12": "-104.9692252",
                                    "13": "39.7389518",
                                    "14": "6",
                                    "15": "622",
                                    "16": "cheesman-park",
                                    "17": "1",
                                    "18": "0",
                                    "19": "1"
                                },
                                {
                                    "0": "2010573247",
                                    "1": "2010573247131600",
                                    "2": "1316",
                                    "3": "0",
                                    "4": "threats-to-injure",
                                    "5": "public-disorder",
                                    "6": "2010-11-18 10:15:00.000",
                                    "7": "2010-11-18 10:45:00.000",
                                    "8": "2010-11-18 11:16:00.000",
                                    "9": "1375 E 20TH AVE",
                                    "10": "3148743",
                                    "11": "1697661",
                                    "12": "-104.9710226",
                                    "13": "39.7476954",
                                    "14": "6",
                                    "15": "622",
                                    "16": "city-park-west",
                                    "17": "1",
                                    "18": "0",
                                    "19": "1"
                                },
                                {
                                    "0": "2010196209",
                                    "1": "2010196209131600",
                                    "2": "1316",
                                    "3": "0",
                                    "4": "threats-to-injure",
                                    "5": "public-disorder",
                                    "6": "2010-04-26 12:00:00.000",
                                    "7": "2010-04-26 12:05:00.000",
                                    "8": "2010-04-26 13:32:00.000",
                                    "9": "2285 S FEDERAL BLVD",
                                    "10": "3133498",
                                    "11": "1671467",
                                    "12": "-105.0257239",
                                    "13": "39.6760184",
                                    "14": "4",
                                    "15": "421",
                                    "16": "harvey-park",
                                    "17": "1",
                                    "18": "0",
                                    "19": "1"
                                },
                                {
                                    "0": "2010375092",
                                    "1": "2010375092131600",
                                    "2": "1316",
                                    "3": "0",
                                    "4": "threats-to-injure",
                                    "5": "public-disorder",
                                    "6": "2010-07-27 10:36:00.000",
                                    "7": "NULL",
                                    "8": "2010-07-28 08:30:00.000",
                                    "9": "2610 N FAIRFAX ST",
                                    "10": "3160844",
                                    "11": "1700407",
                                    "12": "-104.9279272",
                                    "13": "39.7550323",
                                    "14": "2",
                                    "15": "222",
                                    "16": "north-park-hill",
                                    "17": "1",
                                    "18": "0",
                                    "19": "1"
                                },
                                {
                                    "0": "201031598",
                                    "1": "201031598131600",
                                    "2": "1316",
                                    "3": "0",
                                    "4": "threats-to-injure",
                                    "5": "public-disorder",
                                    "6": "2010-01-20 11:00:00.000",
                                    "7": "NULL",
                                    "8": "2010-01-20 11:33:00.000",
                                    "9": "1554 N LOGAN ST",
                                    "10": "3145678",
                                    "11": "1695225",
                                    "12": "-104.9819719",
                                    "13": "39.7410566",
                                    "14": "6",
                                    "15": "621",
                                    "16": "north-capitol-hill",
                                    "17": "1",
                                    "18": "0",
                                    "19": "1"
                                },
                                {
                                    "0": "2010472975",
                                    "1": "2010472975131600",
                                    "2": "1316",
                                    "3": "0",
                                    "4": "threats-to-injure",
                                    "5": "public-disorder",
                                    "6": "2010-09-19 05:00:00.000",
                                    "7": "2010-09-20 16:00:00.000",
                                    "8": "2010-09-20 16:40:00.000",
                                    "9": "2517 S BROADWAY ST",
                                    "10": "3144131",
                                    "11": "1669670",
                                    "12": "-104.987985",
                                    "13": "39.6709268",
                                    "14": "3",
                                    "15": "313",
                                    "16": "overland",
                                    "17": "1",
                                    "18": "0",
                                    "19": "1"
                                },
                                {
                                    "0": "2010440208",
                                    "1": "2010440208131600",
                                    "2": "1316",
                                    "3": "0",
                                    "4": "threats-to-injure",
                                    "5": "public-disorder",
                                    "6": "2010-09-01 21:15:00.000",
                                    "7": "NULL",
                                    "8": "2010-09-01 22:15:00.000",
                                    "9": "E 16TH AVE / N GAYLORD ST",
                                    "10": "3151570",
                                    "11": "1695466",
                                    "12": "-104.9610154",
                                    "13": "39.7416241",
                                    "14": "6",
                                    "15": "622",
                                    "16": "city-park-west",
                                    "17": "1",
                                    "18": "0",
                                    "19": "1"
                                },
                                {
                                    "0": "2010619916",
                                    "1": "2010619916131600",
                                    "2": "1316",
                                    "3": "0",
                                    "4": "threats-to-injure",
                                    "5": "public-disorder",
                                    "6": "2010-12-16 19:57:00.000",
                                    "7": "NULL",
                                    "8": "2010-12-16 21:05:00.000",
                                    "9": "2615 S HAZEL CT",
                                    "10": "3132805",
                                    "11": "1669459",
                                    "12": "-105.0282229",
                                    "13": "39.6705159",
                                    "14": "4",
                                    "15": "421",
                                    "16": "harvey-park",
                                    "17": "1",
                                    "18": "0",
                                    "19": "1"
                                },
                                {
                                    "0": "2010388928",
                                    "1": "2010388928131600",
                                    "2": "1316",
                                    "3": "0",
                                    "4": "threats-to-injure",
                                    "5": "public-disorder",
                                    "6": "2010-07-31 13:30:00.000",
                                    "7": "2010-07-31 13:30:00.000",
                                    "8": "2010-08-04 12:35:00.000",
                                    "9": "4315 N LISBON CT",
                                    "10": "3211988",
                                    "11": "1708500",
                                    "12": "-104.745792",
                                    "13": "39.7762237",
                                    "14": "5",
                                    "15": "523",
                                    "16": "gateway-green-valley-ranch",
                                    "17": "1",
                                    "18": "0",
                                    "19": "1"
                                }
                            ]
                        },
                        "text/html": [
                            "<table>",
                            "<tr><th>incident_id</th><th>offense_id</th><th>OFFENSE_CODE</th><th>OFFENSE_CODE_EXTENSION</th><th>OFFENSE_TYPE_ID</th><th>OFFENSE_CATEGORY_ID</th><th>FIRST_OCCURRENCE_DATE</th><th>LAST_OCCURRENCE_DATE</th><th>REPORTED_DATE</th><th>INCIDENT_ADDRESS</th><th>GEO_X</th><th>GEO_Y</th><th>GEO_LON</th><th>GEO_LAT</th><th>DISTRICT_ID</th><th>PRECINCT_ID</th><th>NEIGHBORHOOD_ID</th><th>IS_CRIME</th><th>IS_TRAFFIC</th><th>VICTIM_COUNT</th></tr>",
                            "<tr><td>2010573988</td><td>2010573988131600</td><td>1316</td><td>0</td><td>threats-to-injure</td><td>public-disorder</td><td>2010-11-18 18:00:00.000</td><td>2010-11-18 18:10:00.000</td><td>2010-11-18 19:51:00.000</td><td>3100 BLK N LOWELL BLVD</td><td>3130861</td><td>1702583</td><td>-105.0345258</td><td>39.7614758</td><td>1</td><td>113</td><td>west-highland</td><td>1</td><td>0</td><td>1</td></tr>",
                            "<tr><td>2010474282</td><td>2010474282131600</td><td>1316</td><td>0</td><td>threats-to-injure</td><td>public-disorder</td><td>2010-09-21 11:30:00.000</td><td>NULL</td><td>2010-09-21 14:23:00.000</td><td>6801 E MISSISSIPPI AVE</td><td>3166178</td><td>1679337</td><td>-104.9094434</td><td>39.6970976</td><td>3</td><td>322</td><td>washington-virginia-vale</td><td>1</td><td>0</td><td>1</td></tr>",
                            "<tr><td>2010524977</td><td>2010524977131600</td><td>1316</td><td>0</td><td>threats-to-injure</td><td>public-disorder</td><td>2010-10-20 20:30:00.000</td><td>NULL</td><td>2010-10-20 21:28:00.000</td><td>2697 W ALAMEDA AVE</td><td>3135040</td><td>1684383</td><td>-105.0200033</td><td>39.7114536</td><td>4</td><td>411</td><td>valverde</td><td>1</td><td>0</td><td>1</td></tr>",
                            "<tr><td>2010434045</td><td>2010434045131600</td><td>1316</td><td>0</td><td>threats-to-injure</td><td>public-disorder</td><td>2010-08-29 08:00:00.000</td><td>2010-08-29 08:30:00.000</td><td>2010-08-29 10:11:00.000</td><td>2440 S MILWAUKEE ST</td><td>3154288</td><td>1670186</td><td>-104.9518928</td><td>39.6721806</td><td>3</td><td>314</td><td>university-park</td><td>1</td><td>0</td><td>2</td></tr>",
                            "<tr><td>2010436317</td><td>2010436317131600</td><td>1316</td><td>0</td><td>threats-to-injure</td><td>public-disorder</td><td>2010-08-30 10:00:00.000</td><td>2010-08-30 10:15:00.000</td><td>2010-08-30 16:51:00.000</td><td>9105 E LEHIGH AVE</td><td>3173893</td><td>1661749</td><td>-104.8824519</td><td>39.6486737</td><td>3</td><td>324</td><td>hampden-south</td><td>1</td><td>0</td><td>1</td></tr>",
                            "<tr><td>2010263502</td><td>2010263502131600</td><td>1316</td><td>0</td><td>threats-to-injure</td><td>public-disorder</td><td>2010-06-01 16:44:00.000</td><td>NULL</td><td>2010-06-01 17:43:00.000</td><td>2975 N HOLLY ST</td><td>3162328</td><td>1702148</td><td>-104.9226098</td><td>39.7597858</td><td>2</td><td>221</td><td>north-park-hill</td><td>1</td><td>0</td><td>1</td></tr>",
                            "<tr><td>2010528686</td><td>2010528686131600</td><td>1316</td><td>0</td><td>threats-to-injure</td><td>public-disorder</td><td>2010-10-22 21:00:00.000</td><td>NULL</td><td>2010-10-22 23:06:00.000</td><td>1430 N HUMBOLDT ST</td><td>3149267</td><td>1694479</td><td>-104.9692252</td><td>39.7389518</td><td>6</td><td>622</td><td>cheesman-park</td><td>1</td><td>0</td><td>1</td></tr>",
                            "<tr><td>2010573247</td><td>2010573247131600</td><td>1316</td><td>0</td><td>threats-to-injure</td><td>public-disorder</td><td>2010-11-18 10:15:00.000</td><td>2010-11-18 10:45:00.000</td><td>2010-11-18 11:16:00.000</td><td>1375 E 20TH AVE</td><td>3148743</td><td>1697661</td><td>-104.9710226</td><td>39.7476954</td><td>6</td><td>622</td><td>city-park-west</td><td>1</td><td>0</td><td>1</td></tr>",
                            "<tr><td>2010196209</td><td>2010196209131600</td><td>1316</td><td>0</td><td>threats-to-injure</td><td>public-disorder</td><td>2010-04-26 12:00:00.000</td><td>2010-04-26 12:05:00.000</td><td>2010-04-26 13:32:00.000</td><td>2285 S FEDERAL BLVD</td><td>3133498</td><td>1671467</td><td>-105.0257239</td><td>39.6760184</td><td>4</td><td>421</td><td>harvey-park</td><td>1</td><td>0</td><td>1</td></tr>",
                            "<tr><td>2010375092</td><td>2010375092131600</td><td>1316</td><td>0</td><td>threats-to-injure</td><td>public-disorder</td><td>2010-07-27 10:36:00.000</td><td>NULL</td><td>2010-07-28 08:30:00.000</td><td>2610 N FAIRFAX ST</td><td>3160844</td><td>1700407</td><td>-104.9279272</td><td>39.7550323</td><td>2</td><td>222</td><td>north-park-hill</td><td>1</td><td>0</td><td>1</td></tr>",
                            "<tr><td>201031598</td><td>201031598131600</td><td>1316</td><td>0</td><td>threats-to-injure</td><td>public-disorder</td><td>2010-01-20 11:00:00.000</td><td>NULL</td><td>2010-01-20 11:33:00.000</td><td>1554 N LOGAN ST</td><td>3145678</td><td>1695225</td><td>-104.9819719</td><td>39.7410566</td><td>6</td><td>621</td><td>north-capitol-hill</td><td>1</td><td>0</td><td>1</td></tr>",
                            "<tr><td>2010472975</td><td>2010472975131600</td><td>1316</td><td>0</td><td>threats-to-injure</td><td>public-disorder</td><td>2010-09-19 05:00:00.000</td><td>2010-09-20 16:00:00.000</td><td>2010-09-20 16:40:00.000</td><td>2517 S BROADWAY ST</td><td>3144131</td><td>1669670</td><td>-104.987985</td><td>39.6709268</td><td>3</td><td>313</td><td>overland</td><td>1</td><td>0</td><td>1</td></tr>",
                            "<tr><td>2010440208</td><td>2010440208131600</td><td>1316</td><td>0</td><td>threats-to-injure</td><td>public-disorder</td><td>2010-09-01 21:15:00.000</td><td>NULL</td><td>2010-09-01 22:15:00.000</td><td>E 16TH AVE / N GAYLORD ST</td><td>3151570</td><td>1695466</td><td>-104.9610154</td><td>39.7416241</td><td>6</td><td>622</td><td>city-park-west</td><td>1</td><td>0</td><td>1</td></tr>",
                            "<tr><td>2010619916</td><td>2010619916131600</td><td>1316</td><td>0</td><td>threats-to-injure</td><td>public-disorder</td><td>2010-12-16 19:57:00.000</td><td>NULL</td><td>2010-12-16 21:05:00.000</td><td>2615 S HAZEL CT</td><td>3132805</td><td>1669459</td><td>-105.0282229</td><td>39.6705159</td><td>4</td><td>421</td><td>harvey-park</td><td>1</td><td>0</td><td>1</td></tr>",
                            "<tr><td>2010388928</td><td>2010388928131600</td><td>1316</td><td>0</td><td>threats-to-injure</td><td>public-disorder</td><td>2010-07-31 13:30:00.000</td><td>2010-07-31 13:30:00.000</td><td>2010-08-04 12:35:00.000</td><td>4315 N LISBON CT</td><td>3211988</td><td>1708500</td><td>-104.745792</td><td>39.7762237</td><td>5</td><td>523</td><td>gateway-green-valley-ranch</td><td>1</td><td>0</td><td>1</td></tr>",
                            "</table>"
                        ]
                    }
                }
            ],
            "execution_count": 5
        },
        {
            "cell_type": "code",
            "source": [
                "-- Aggregate Crime dataset for the studied period (2010 - 2013)\r\n",
                "WITH Crime_Data \r\n",
                "AS \r\n",
                "(\r\n",
                "SELECT REPLACE(OFFENSE_CATEGORY_ID, '-', ' ') as OFFENSE_CATEGORY,\r\n",
                "COUNT(*) as Count,\r\n",
                "CONVERT(date, REPORTED_DATE) as REPORTED_DATE,\r\n",
                "YEAR(REPORTED_DATE) as Year,\r\n",
                "MONTH(REPORTED_DATE) as Month,\r\n",
                "REPLACE(NEIGHBORHOOD_ID, '-', ' ') as NBHD_Name_Crime\r\n",
                "FROM crime2010\r\n",
                "GROUP BY REPLACE(OFFENSE_CATEGORY_ID, '-', ' '), CONVERT(date, REPORTED_DATE), YEAR(REPORTED_DATE), MONTH(REPORTED_DATE), REPLACE(NEIGHBORHOOD_ID, '-', ' ')\r\n",
                "\r\n",
                "UNION ALL\r\n",
                "\r\n",
                "SELECT REPLACE(OFFENSE_CATEGORY_ID, '-', ' ') as OFFENSE_CATEGORY,\r\n",
                "COUNT(*) as Count,\r\n",
                "CONVERT(date, REPORTED_DATE) as REPORTED_DATE,\r\n",
                "YEAR(REPORTED_DATE) as Year,\r\n",
                "MONTH(REPORTED_DATE) as Month,\r\n",
                "REPLACE(NEIGHBORHOOD_ID, '-', ' ') as NBHD_Name_Crime\r\n",
                "FROM crime2011\r\n",
                "GROUP BY REPLACE(OFFENSE_CATEGORY_ID, '-', ' '), CONVERT(date, REPORTED_DATE), YEAR(REPORTED_DATE), MONTH(REPORTED_DATE), REPLACE(NEIGHBORHOOD_ID, '-', ' ')\r\n",
                "\r\n",
                "UNION ALL\r\n",
                "\r\n",
                "SELECT REPLACE(OFFENSE_CATEGORY_ID, '-', ' ') as OFFENSE_CATEGORY,\r\n",
                "COUNT(*) as Count,\r\n",
                "CONVERT(date, REPORTED_DATE) as REPORTED_DATE,\r\n",
                "YEAR(REPORTED_DATE) as Year,\r\n",
                "MONTH(REPORTED_DATE) as Month,\r\n",
                "REPLACE(NEIGHBORHOOD_ID, '-', ' ') as NBHD_Name_Crime\r\n",
                "FROM crime2012\r\n",
                "GROUP BY REPLACE(OFFENSE_CATEGORY_ID, '-', ' '), CONVERT(date, REPORTED_DATE), YEAR(REPORTED_DATE), MONTH(REPORTED_DATE), REPLACE(NEIGHBORHOOD_ID, '-', ' ')\r\n",
                ")\r\n",
                "\r\n",
                "SELECT OFFENSE_CATEGORY, Year, Month, SUM(Count) as Count, NBHD_Name_Crime\r\n",
                "INTO Crime_Data\r\n",
                "FROM Crime_Data\r\n",
                "WHERE REPORTED_DATE < '2013-01-01'\r\n",
                "GROUP BY OFFENSE_CATEGORY, Year, Month, NBHD_Name_Crime\r\n",
                "ORDER BY Year, Month"
            ],
            "metadata": {
                "language": "sql",
                "azdata_cell_guid": "09e49e62-be01-4ef3-984b-3d828d9e5ae8"
            },
            "outputs": [
                {
                    "output_type": "error",
                    "evalue": "Msg 2714, Level 16, State 6, Line 2\r\nThere is already an object named 'Crime_Data' in the database.",
                    "ename": "",
                    "traceback": []
                },
                {
                    "output_type": "display_data",
                    "data": {
                        "text/html": "Total execution time: 00:00:00.027"
                    },
                    "metadata": {}
                }
            ],
            "execution_count": 6
        },
        {
            "cell_type": "code",
            "source": [
                "SELECT top 15 *\r\n",
                "FROM Crime_Data"
            ],
            "metadata": {
                "language": "sql",
                "azdata_cell_guid": "cf377fcd-71ce-4f24-bec6-77f50e69fa30"
            },
            "outputs": [
                {
                    "output_type": "display_data",
                    "data": {
                        "text/html": "(15 rows affected)"
                    },
                    "metadata": {}
                },
                {
                    "output_type": "display_data",
                    "data": {
                        "text/html": "Total execution time: 00:00:00.007"
                    },
                    "metadata": {}
                },
                {
                    "output_type": "execute_result",
                    "metadata": {},
                    "execution_count": 7,
                    "data": {
                        "application/vnd.dataresource+json": {
                            "schema": {
                                "fields": [
                                    {
                                        "name": "OFFENSE_CATEGORY"
                                    },
                                    {
                                        "name": "Year"
                                    },
                                    {
                                        "name": "Month"
                                    },
                                    {
                                        "name": "Count"
                                    },
                                    {
                                        "name": "NBHD_Name_Crime"
                                    }
                                ]
                            },
                            "data": [
                                {
                                    "0": "theft from motor vehicle",
                                    "1": "2010",
                                    "2": "9",
                                    "3": "2",
                                    "4": "regis"
                                },
                                {
                                    "0": "public disorder",
                                    "1": "2011",
                                    "2": "11",
                                    "3": "14",
                                    "4": "montbello"
                                },
                                {
                                    "0": "auto theft",
                                    "1": "2012",
                                    "2": "3",
                                    "3": "8",
                                    "4": "highland"
                                },
                                {
                                    "0": "auto theft",
                                    "1": "2011",
                                    "2": "4",
                                    "3": "3",
                                    "4": "mar lee"
                                },
                                {
                                    "0": "drug alcohol",
                                    "1": "2011",
                                    "2": "5",
                                    "3": "2",
                                    "4": "north capitol hill"
                                },
                                {
                                    "0": "white collar crime",
                                    "1": "2011",
                                    "2": "4",
                                    "3": "1",
                                    "4": "hampden south"
                                },
                                {
                                    "0": "burglary",
                                    "1": "2011",
                                    "2": "11",
                                    "3": "5",
                                    "4": "lincoln park"
                                },
                                {
                                    "0": "theft from motor vehicle",
                                    "1": "2011",
                                    "2": "10",
                                    "3": "2",
                                    "4": "skyland"
                                },
                                {
                                    "0": "white collar crime",
                                    "1": "2012",
                                    "2": "8",
                                    "3": "3",
                                    "4": "north capitol hill"
                                },
                                {
                                    "0": "drug alcohol",
                                    "1": "2010",
                                    "2": "5",
                                    "3": "2",
                                    "4": "gateway green valley ranch"
                                },
                                {
                                    "0": "auto theft",
                                    "1": "2011",
                                    "2": "2",
                                    "3": "4",
                                    "4": "washington virginia vale"
                                },
                                {
                                    "0": "other crimes against persons",
                                    "1": "2012",
                                    "2": "8",
                                    "3": "5",
                                    "4": "harvey park"
                                },
                                {
                                    "0": "theft from motor vehicle",
                                    "1": "2012",
                                    "2": "4",
                                    "3": "2",
                                    "4": "windsor"
                                },
                                {
                                    "0": "aggravated assault",
                                    "1": "2012",
                                    "2": "7",
                                    "3": "4",
                                    "4": "harvey park"
                                },
                                {
                                    "0": "white collar crime",
                                    "1": "2012",
                                    "2": "6",
                                    "3": "3",
                                    "4": "marston"
                                }
                            ]
                        },
                        "text/html": [
                            "<table>",
                            "<tr><th>OFFENSE_CATEGORY</th><th>Year</th><th>Month</th><th>Count</th><th>NBHD_Name_Crime</th></tr>",
                            "<tr><td>theft from motor vehicle</td><td>2010</td><td>9</td><td>2</td><td>regis</td></tr>",
                            "<tr><td>public disorder</td><td>2011</td><td>11</td><td>14</td><td>montbello</td></tr>",
                            "<tr><td>auto theft</td><td>2012</td><td>3</td><td>8</td><td>highland</td></tr>",
                            "<tr><td>auto theft</td><td>2011</td><td>4</td><td>3</td><td>mar lee</td></tr>",
                            "<tr><td>drug alcohol</td><td>2011</td><td>5</td><td>2</td><td>north capitol hill</td></tr>",
                            "<tr><td>white collar crime</td><td>2011</td><td>4</td><td>1</td><td>hampden south</td></tr>",
                            "<tr><td>burglary</td><td>2011</td><td>11</td><td>5</td><td>lincoln park</td></tr>",
                            "<tr><td>theft from motor vehicle</td><td>2011</td><td>10</td><td>2</td><td>skyland</td></tr>",
                            "<tr><td>white collar crime</td><td>2012</td><td>8</td><td>3</td><td>north capitol hill</td></tr>",
                            "<tr><td>drug alcohol</td><td>2010</td><td>5</td><td>2</td><td>gateway green valley ranch</td></tr>",
                            "<tr><td>auto theft</td><td>2011</td><td>2</td><td>4</td><td>washington virginia vale</td></tr>",
                            "<tr><td>other crimes against persons</td><td>2012</td><td>8</td><td>5</td><td>harvey park</td></tr>",
                            "<tr><td>theft from motor vehicle</td><td>2012</td><td>4</td><td>2</td><td>windsor</td></tr>",
                            "<tr><td>aggravated assault</td><td>2012</td><td>7</td><td>4</td><td>harvey park</td></tr>",
                            "<tr><td>white collar crime</td><td>2012</td><td>6</td><td>3</td><td>marston</td></tr>",
                            "</table>"
                        ]
                    }
                }
            ],
            "execution_count": 7
        },
        {
            "cell_type": "code",
            "source": [
                "SELECT top 15 *\r\n",
                "FROM SalesBook"
            ],
            "metadata": {
                "language": "sql",
                "azdata_cell_guid": "a53f9864-8e53-4214-bb6f-0ca43bcf14b5"
            },
            "outputs": [
                {
                    "output_type": "display_data",
                    "data": {
                        "text/html": "(15 rows affected)"
                    },
                    "metadata": {}
                },
                {
                    "output_type": "display_data",
                    "data": {
                        "text/html": "Total execution time: 00:00:00.005"
                    },
                    "metadata": {}
                },
                {
                    "output_type": "execute_result",
                    "metadata": {},
                    "execution_count": 8,
                    "data": {
                        "application/vnd.dataresource+json": {
                            "schema": {
                                "fields": [
                                    {
                                        "name": "Model"
                                    },
                                    {
                                        "name": "Cluster"
                                    },
                                    {
                                        "name": "Group"
                                    },
                                    {
                                        "name": "CondoComplex"
                                    },
                                    {
                                        "name": "CondoComplexName"
                                    },
                                    {
                                        "name": "NBHD"
                                    },
                                    {
                                        "name": "PARCEL"
                                    },
                                    {
                                        "name": "ABSTRPRD"
                                    },
                                    {
                                        "name": "LIVEAREA"
                                    },
                                    {
                                        "name": "FINBSMNT"
                                    },
                                    {
                                        "name": "BASEMENT"
                                    },
                                    {
                                        "name": "YRBUILT"
                                    },
                                    {
                                        "name": "CONDITION"
                                    },
                                    {
                                        "name": "QUALITY"
                                    },
                                    {
                                        "name": "TOTUNITS"
                                    },
                                    {
                                        "name": "STORIES"
                                    },
                                    {
                                        "name": "GARTYPE"
                                    },
                                    {
                                        "name": "NOCARS"
                                    },
                                    {
                                        "name": "XTRAFFIC"
                                    },
                                    {
                                        "name": "FLOORLVL"
                                    },
                                    {
                                        "name": "NUMBDRM"
                                    },
                                    {
                                        "name": "NUMBATHS"
                                    },
                                    {
                                        "name": "COMMUSE"
                                    },
                                    {
                                        "name": "ARCSTYLE"
                                    },
                                    {
                                        "name": "SPRICE"
                                    },
                                    {
                                        "name": "DEDUCT"
                                    },
                                    {
                                        "name": "NETPRICE"
                                    },
                                    {
                                        "name": "TASP"
                                    },
                                    {
                                        "name": "SMONTH"
                                    },
                                    {
                                        "name": "SYEAR"
                                    },
                                    {
                                        "name": "QUALIFIED"
                                    },
                                    {
                                        "name": "STATUS"
                                    }
                                ]
                            },
                            "data": [
                                {
                                    "0": "41",
                                    "1": "1",
                                    "2": "NULL",
                                    "3": "946",
                                    "4": "Wildhorse Ridge Condos",
                                    "5": "4",
                                    "6": "00102-08-065-065",
                                    "7": "1130",
                                    "8": "1346",
                                    "9": "0",
                                    "10": "0",
                                    "11": "2004",
                                    "12": "AVG",
                                    "13": "C",
                                    "14": "1",
                                    "15": "2",
                                    "16": "Att/Det",
                                    "17": "2",
                                    "18": "NULL",
                                    "19": "2",
                                    "20": "2",
                                    "21": "2",
                                    "22": "NULL",
                                    "23": "MIDDLE UNIT",
                                    "24": "100000",
                                    "25": "0",
                                    "26": "100000",
                                    "27": "100000",
                                    "28": "2",
                                    "29": "2012",
                                    "30": "Q",
                                    "31": "I"
                                },
                                {
                                    "0": "41",
                                    "1": "1",
                                    "2": "NULL",
                                    "3": "946",
                                    "4": "Wildhorse Ridge Condos",
                                    "5": "4",
                                    "6": "00102-08-073-073",
                                    "7": "1130",
                                    "8": "1249",
                                    "9": "0",
                                    "10": "0",
                                    "11": "2005",
                                    "12": "AVG",
                                    "13": "C",
                                    "14": "1",
                                    "15": "1",
                                    "16": "Att",
                                    "17": "1",
                                    "18": "NULL",
                                    "19": "1",
                                    "20": "2",
                                    "21": "2",
                                    "22": "NULL",
                                    "23": "END UNIT",
                                    "24": "94700",
                                    "25": "0",
                                    "26": "94700",
                                    "27": "94700",
                                    "28": "4",
                                    "29": "2011",
                                    "30": "Q",
                                    "31": "I"
                                },
                                {
                                    "0": "41",
                                    "1": "1",
                                    "2": "NULL",
                                    "3": "946",
                                    "4": "Wildhorse Ridge Condos",
                                    "5": "4",
                                    "6": "00102-08-078-078",
                                    "7": "1130",
                                    "8": "1346",
                                    "9": "0",
                                    "10": "0",
                                    "11": "2005",
                                    "12": "AVG",
                                    "13": "C",
                                    "14": "1",
                                    "15": "2",
                                    "16": "Att",
                                    "17": "1",
                                    "18": "NULL",
                                    "19": "2",
                                    "20": "2",
                                    "21": "2",
                                    "22": "NULL",
                                    "23": "MIDDLE UNIT",
                                    "24": "89500",
                                    "25": "0",
                                    "26": "89500",
                                    "27": "89500",
                                    "28": "10",
                                    "29": "2010",
                                    "30": "Q",
                                    "31": "I"
                                },
                                {
                                    "0": "41",
                                    "1": "1",
                                    "2": "NULL",
                                    "3": "946",
                                    "4": "Wildhorse Ridge Condos",
                                    "5": "4",
                                    "6": "00102-08-081-081",
                                    "7": "1130",
                                    "8": "1146",
                                    "9": "0",
                                    "10": "0",
                                    "11": "2005",
                                    "12": "AVG",
                                    "13": "C",
                                    "14": "1",
                                    "15": "1",
                                    "16": "None",
                                    "17": "0",
                                    "18": "NULL",
                                    "19": "2",
                                    "20": "2",
                                    "21": "2",
                                    "22": "NULL",
                                    "23": "END UNIT",
                                    "24": "92000",
                                    "25": "3220",
                                    "26": "88780",
                                    "27": "88780",
                                    "28": "10",
                                    "29": "2011",
                                    "30": "Q",
                                    "31": "I"
                                },
                                {
                                    "0": "41",
                                    "1": "1",
                                    "2": "NULL",
                                    "3": "946",
                                    "4": "Wildhorse Ridge Condos",
                                    "5": "4",
                                    "6": "00102-08-086-086",
                                    "7": "1130",
                                    "8": "1249",
                                    "9": "0",
                                    "10": "0",
                                    "11": "2005",
                                    "12": "AVG",
                                    "13": "C",
                                    "14": "1",
                                    "15": "1",
                                    "16": "Att",
                                    "17": "1",
                                    "18": "NULL",
                                    "19": "1",
                                    "20": "2",
                                    "21": "2",
                                    "22": "NULL",
                                    "23": "END UNIT",
                                    "24": "74199",
                                    "25": "0",
                                    "26": "74199",
                                    "27": "74199",
                                    "28": "3",
                                    "29": "2012",
                                    "30": "U",
                                    "31": "I"
                                },
                                {
                                    "0": "41",
                                    "1": "1",
                                    "2": "NULL",
                                    "3": "946",
                                    "4": "Wildhorse Ridge Condos",
                                    "5": "4",
                                    "6": "00102-08-086-086",
                                    "7": "1130",
                                    "8": "1249",
                                    "9": "0",
                                    "10": "0",
                                    "11": "2005",
                                    "12": "AVG",
                                    "13": "C",
                                    "14": "1",
                                    "15": "1",
                                    "16": "Att",
                                    "17": "1",
                                    "18": "NULL",
                                    "19": "1",
                                    "20": "2",
                                    "21": "2",
                                    "22": "NULL",
                                    "23": "END UNIT",
                                    "24": "105900",
                                    "25": "1000",
                                    "26": "104900",
                                    "27": "104900",
                                    "28": "5",
                                    "29": "2012",
                                    "30": "Q",
                                    "31": "I"
                                },
                                {
                                    "0": "41",
                                    "1": "1",
                                    "2": "NULL",
                                    "3": "946",
                                    "4": "Wildhorse Ridge Condos",
                                    "5": "4",
                                    "6": "00102-08-088-088",
                                    "7": "1130",
                                    "8": "1098",
                                    "9": "0",
                                    "10": "0",
                                    "11": "2005",
                                    "12": "AVG",
                                    "13": "C",
                                    "14": "1",
                                    "15": "2",
                                    "16": "None",
                                    "17": "0",
                                    "18": "NULL",
                                    "19": "2",
                                    "20": "1",
                                    "21": "1",
                                    "22": "NULL",
                                    "23": "MIDDLE UNIT",
                                    "24": "69000",
                                    "25": "0",
                                    "26": "69000",
                                    "27": "69000",
                                    "28": "8",
                                    "29": "2010",
                                    "30": "Q",
                                    "31": "I"
                                },
                                {
                                    "0": "41",
                                    "1": "1",
                                    "2": "NULL",
                                    "3": "946",
                                    "4": "Wildhorse Ridge Condos",
                                    "5": "4",
                                    "6": "00102-08-127-127",
                                    "7": "1130",
                                    "8": "1346",
                                    "9": "0",
                                    "10": "0",
                                    "11": "2005",
                                    "12": "AVG",
                                    "13": "C",
                                    "14": "1",
                                    "15": "2",
                                    "16": "Att",
                                    "17": "1",
                                    "18": "NULL",
                                    "19": "2",
                                    "20": "2",
                                    "21": "2",
                                    "22": "NULL",
                                    "23": "MIDDLE UNIT",
                                    "24": "90000",
                                    "25": "0",
                                    "26": "90000",
                                    "27": "90000",
                                    "28": "5",
                                    "29": "2012",
                                    "30": "Q",
                                    "31": "I"
                                },
                                {
                                    "0": "41",
                                    "1": "1",
                                    "2": "NULL",
                                    "3": "946",
                                    "4": "Wildhorse Ridge Condos",
                                    "5": "4",
                                    "6": "00102-08-133-133",
                                    "7": "1130",
                                    "8": "1249",
                                    "9": "0",
                                    "10": "0",
                                    "11": "2006",
                                    "12": "AVG",
                                    "13": "C",
                                    "14": "1",
                                    "15": "1",
                                    "16": "Att",
                                    "17": "1",
                                    "18": "NULL",
                                    "19": "1",
                                    "20": "2",
                                    "21": "2",
                                    "22": "NULL",
                                    "23": "END UNIT",
                                    "24": "100000",
                                    "25": "0",
                                    "26": "100000",
                                    "27": "100000",
                                    "28": "8",
                                    "29": "2010",
                                    "30": "Q",
                                    "31": "I"
                                },
                                {
                                    "0": "41",
                                    "1": "1",
                                    "2": "NULL",
                                    "3": "946",
                                    "4": "Wildhorse Ridge Condos",
                                    "5": "4",
                                    "6": "00102-08-141-141",
                                    "7": "1130",
                                    "8": "1346",
                                    "9": "0",
                                    "10": "0",
                                    "11": "2006",
                                    "12": "AVG",
                                    "13": "C",
                                    "14": "1",
                                    "15": "2",
                                    "16": "Att",
                                    "17": "1",
                                    "18": "NULL",
                                    "19": "2",
                                    "20": "2",
                                    "21": "2",
                                    "22": "NULL",
                                    "23": "MIDDLE UNIT",
                                    "24": "92000",
                                    "25": "0",
                                    "26": "92000",
                                    "27": "92000",
                                    "28": "12",
                                    "29": "2011",
                                    "30": "Q",
                                    "31": "I"
                                },
                                {
                                    "0": "41",
                                    "1": "1",
                                    "2": "NULL",
                                    "3": "946",
                                    "4": "Wildhorse Ridge Condos",
                                    "5": "4",
                                    "6": "00102-08-143-143",
                                    "7": "1130",
                                    "8": "1098",
                                    "9": "0",
                                    "10": "0",
                                    "11": "2006",
                                    "12": "AVG",
                                    "13": "C",
                                    "14": "1",
                                    "15": "2",
                                    "16": "Att",
                                    "17": "1",
                                    "18": "NULL",
                                    "19": "2",
                                    "20": "1",
                                    "21": "1",
                                    "22": "NULL",
                                    "23": "MIDDLE UNIT",
                                    "24": "70000",
                                    "25": "0",
                                    "26": "70000",
                                    "27": "70000",
                                    "28": "2",
                                    "29": "2011",
                                    "30": "Q",
                                    "31": "I"
                                },
                                {
                                    "0": "6",
                                    "1": "15",
                                    "2": "NULL",
                                    "3": "NULL",
                                    "4": "NULL",
                                    "5": "5",
                                    "6": "00141-01-002-000",
                                    "7": "1112",
                                    "8": "3902",
                                    "9": "1125",
                                    "10": "1540",
                                    "11": "2005",
                                    "12": "Good",
                                    "13": "C",
                                    "14": "1",
                                    "15": "2",
                                    "16": "Att",
                                    "17": "3",
                                    "18": "NULL",
                                    "19": "NULL",
                                    "20": "4",
                                    "21": "5",
                                    "22": "NULL",
                                    "23": "TWO-STORY",
                                    "24": "350000",
                                    "25": "0",
                                    "26": "350000",
                                    "27": "350000",
                                    "28": "8",
                                    "29": "2010",
                                    "30": "U",
                                    "31": "I"
                                },
                                {
                                    "0": "6",
                                    "1": "1",
                                    "2": "NULL",
                                    "3": "NULL",
                                    "4": "NULL",
                                    "5": "5",
                                    "6": "00141-04-011-000",
                                    "7": "1112",
                                    "8": "2732",
                                    "9": "0",
                                    "10": "0",
                                    "11": "2003",
                                    "12": "AVG",
                                    "13": "C",
                                    "14": "1",
                                    "15": "2",
                                    "16": "Att",
                                    "17": "2",
                                    "18": "NULL",
                                    "19": "NULL",
                                    "20": "4",
                                    "21": "3",
                                    "22": "NULL",
                                    "23": "TWO-STORY",
                                    "24": "175000",
                                    "25": "0",
                                    "26": "175000",
                                    "27": "175000",
                                    "28": "3",
                                    "29": "2012",
                                    "30": "U",
                                    "31": "I"
                                },
                                {
                                    "0": "6",
                                    "1": "1",
                                    "2": "NULL",
                                    "3": "NULL",
                                    "4": "NULL",
                                    "5": "5",
                                    "6": "00141-05-012-000",
                                    "7": "1112",
                                    "8": "2927",
                                    "9": "0",
                                    "10": "0",
                                    "11": "2005",
                                    "12": "AVG",
                                    "13": "C",
                                    "14": "1",
                                    "15": "2",
                                    "16": "Att",
                                    "17": "2",
                                    "18": "NULL",
                                    "19": "NULL",
                                    "20": "4",
                                    "21": "3",
                                    "22": "NULL",
                                    "23": "TWO-STORY",
                                    "24": "175000",
                                    "25": "0",
                                    "26": "175000",
                                    "27": "175000",
                                    "28": "3",
                                    "29": "2011",
                                    "30": "Q",
                                    "31": "I"
                                },
                                {
                                    "0": "6",
                                    "1": "1",
                                    "2": "NULL",
                                    "3": "NULL",
                                    "4": "NULL",
                                    "5": "5",
                                    "6": "00141-13-002-000",
                                    "7": "1112",
                                    "8": "2811",
                                    "9": "0",
                                    "10": "0",
                                    "11": "2004",
                                    "12": "AVG",
                                    "13": "C",
                                    "14": "1",
                                    "15": "2",
                                    "16": "Att",
                                    "17": "2",
                                    "18": "NULL",
                                    "19": "NULL",
                                    "20": "4",
                                    "21": "3",
                                    "22": "NULL",
                                    "23": "TWO-STORY",
                                    "24": "178200",
                                    "25": "5300",
                                    "26": "172900",
                                    "27": "172900",
                                    "28": "11",
                                    "29": "2011",
                                    "30": "Q",
                                    "31": "I"
                                }
                            ]
                        },
                        "text/html": [
                            "<table>",
                            "<tr><th>Model</th><th>Cluster</th><th>Group</th><th>CondoComplex</th><th>CondoComplexName</th><th>NBHD</th><th>PARCEL</th><th>ABSTRPRD</th><th>LIVEAREA</th><th>FINBSMNT</th><th>BASEMENT</th><th>YRBUILT</th><th>CONDITION</th><th>QUALITY</th><th>TOTUNITS</th><th>STORIES</th><th>GARTYPE</th><th>NOCARS</th><th>XTRAFFIC</th><th>FLOORLVL</th><th>NUMBDRM</th><th>NUMBATHS</th><th>COMMUSE</th><th>ARCSTYLE</th><th>SPRICE</th><th>DEDUCT</th><th>NETPRICE</th><th>TASP</th><th>SMONTH</th><th>SYEAR</th><th>QUALIFIED</th><th>STATUS</th></tr>",
                            "<tr><td>41</td><td>1</td><td>NULL</td><td>946</td><td>Wildhorse Ridge Condos</td><td>4</td><td>00102-08-065-065</td><td>1130</td><td>1346</td><td>0</td><td>0</td><td>2004</td><td>AVG</td><td>C</td><td>1</td><td>2</td><td>Att/Det</td><td>2</td><td>NULL</td><td>2</td><td>2</td><td>2</td><td>NULL</td><td>MIDDLE UNIT</td><td>100000</td><td>0</td><td>100000</td><td>100000</td><td>2</td><td>2012</td><td>Q</td><td>I</td></tr>",
                            "<tr><td>41</td><td>1</td><td>NULL</td><td>946</td><td>Wildhorse Ridge Condos</td><td>4</td><td>00102-08-073-073</td><td>1130</td><td>1249</td><td>0</td><td>0</td><td>2005</td><td>AVG</td><td>C</td><td>1</td><td>1</td><td>Att</td><td>1</td><td>NULL</td><td>1</td><td>2</td><td>2</td><td>NULL</td><td>END UNIT</td><td>94700</td><td>0</td><td>94700</td><td>94700</td><td>4</td><td>2011</td><td>Q</td><td>I</td></tr>",
                            "<tr><td>41</td><td>1</td><td>NULL</td><td>946</td><td>Wildhorse Ridge Condos</td><td>4</td><td>00102-08-078-078</td><td>1130</td><td>1346</td><td>0</td><td>0</td><td>2005</td><td>AVG</td><td>C</td><td>1</td><td>2</td><td>Att</td><td>1</td><td>NULL</td><td>2</td><td>2</td><td>2</td><td>NULL</td><td>MIDDLE UNIT</td><td>89500</td><td>0</td><td>89500</td><td>89500</td><td>10</td><td>2010</td><td>Q</td><td>I</td></tr>",
                            "<tr><td>41</td><td>1</td><td>NULL</td><td>946</td><td>Wildhorse Ridge Condos</td><td>4</td><td>00102-08-081-081</td><td>1130</td><td>1146</td><td>0</td><td>0</td><td>2005</td><td>AVG</td><td>C</td><td>1</td><td>1</td><td>None</td><td>0</td><td>NULL</td><td>2</td><td>2</td><td>2</td><td>NULL</td><td>END UNIT</td><td>92000</td><td>3220</td><td>88780</td><td>88780</td><td>10</td><td>2011</td><td>Q</td><td>I</td></tr>",
                            "<tr><td>41</td><td>1</td><td>NULL</td><td>946</td><td>Wildhorse Ridge Condos</td><td>4</td><td>00102-08-086-086</td><td>1130</td><td>1249</td><td>0</td><td>0</td><td>2005</td><td>AVG</td><td>C</td><td>1</td><td>1</td><td>Att</td><td>1</td><td>NULL</td><td>1</td><td>2</td><td>2</td><td>NULL</td><td>END UNIT</td><td>74199</td><td>0</td><td>74199</td><td>74199</td><td>3</td><td>2012</td><td>U</td><td>I</td></tr>",
                            "<tr><td>41</td><td>1</td><td>NULL</td><td>946</td><td>Wildhorse Ridge Condos</td><td>4</td><td>00102-08-086-086</td><td>1130</td><td>1249</td><td>0</td><td>0</td><td>2005</td><td>AVG</td><td>C</td><td>1</td><td>1</td><td>Att</td><td>1</td><td>NULL</td><td>1</td><td>2</td><td>2</td><td>NULL</td><td>END UNIT</td><td>105900</td><td>1000</td><td>104900</td><td>104900</td><td>5</td><td>2012</td><td>Q</td><td>I</td></tr>",
                            "<tr><td>41</td><td>1</td><td>NULL</td><td>946</td><td>Wildhorse Ridge Condos</td><td>4</td><td>00102-08-088-088</td><td>1130</td><td>1098</td><td>0</td><td>0</td><td>2005</td><td>AVG</td><td>C</td><td>1</td><td>2</td><td>None</td><td>0</td><td>NULL</td><td>2</td><td>1</td><td>1</td><td>NULL</td><td>MIDDLE UNIT</td><td>69000</td><td>0</td><td>69000</td><td>69000</td><td>8</td><td>2010</td><td>Q</td><td>I</td></tr>",
                            "<tr><td>41</td><td>1</td><td>NULL</td><td>946</td><td>Wildhorse Ridge Condos</td><td>4</td><td>00102-08-127-127</td><td>1130</td><td>1346</td><td>0</td><td>0</td><td>2005</td><td>AVG</td><td>C</td><td>1</td><td>2</td><td>Att</td><td>1</td><td>NULL</td><td>2</td><td>2</td><td>2</td><td>NULL</td><td>MIDDLE UNIT</td><td>90000</td><td>0</td><td>90000</td><td>90000</td><td>5</td><td>2012</td><td>Q</td><td>I</td></tr>",
                            "<tr><td>41</td><td>1</td><td>NULL</td><td>946</td><td>Wildhorse Ridge Condos</td><td>4</td><td>00102-08-133-133</td><td>1130</td><td>1249</td><td>0</td><td>0</td><td>2006</td><td>AVG</td><td>C</td><td>1</td><td>1</td><td>Att</td><td>1</td><td>NULL</td><td>1</td><td>2</td><td>2</td><td>NULL</td><td>END UNIT</td><td>100000</td><td>0</td><td>100000</td><td>100000</td><td>8</td><td>2010</td><td>Q</td><td>I</td></tr>",
                            "<tr><td>41</td><td>1</td><td>NULL</td><td>946</td><td>Wildhorse Ridge Condos</td><td>4</td><td>00102-08-141-141</td><td>1130</td><td>1346</td><td>0</td><td>0</td><td>2006</td><td>AVG</td><td>C</td><td>1</td><td>2</td><td>Att</td><td>1</td><td>NULL</td><td>2</td><td>2</td><td>2</td><td>NULL</td><td>MIDDLE UNIT</td><td>92000</td><td>0</td><td>92000</td><td>92000</td><td>12</td><td>2011</td><td>Q</td><td>I</td></tr>",
                            "<tr><td>41</td><td>1</td><td>NULL</td><td>946</td><td>Wildhorse Ridge Condos</td><td>4</td><td>00102-08-143-143</td><td>1130</td><td>1098</td><td>0</td><td>0</td><td>2006</td><td>AVG</td><td>C</td><td>1</td><td>2</td><td>Att</td><td>1</td><td>NULL</td><td>2</td><td>1</td><td>1</td><td>NULL</td><td>MIDDLE UNIT</td><td>70000</td><td>0</td><td>70000</td><td>70000</td><td>2</td><td>2011</td><td>Q</td><td>I</td></tr>",
                            "<tr><td>6</td><td>15</td><td>NULL</td><td>NULL</td><td>NULL</td><td>5</td><td>00141-01-002-000</td><td>1112</td><td>3902</td><td>1125</td><td>1540</td><td>2005</td><td>Good</td><td>C</td><td>1</td><td>2</td><td>Att</td><td>3</td><td>NULL</td><td>NULL</td><td>4</td><td>5</td><td>NULL</td><td>TWO-STORY</td><td>350000</td><td>0</td><td>350000</td><td>350000</td><td>8</td><td>2010</td><td>U</td><td>I</td></tr>",
                            "<tr><td>6</td><td>1</td><td>NULL</td><td>NULL</td><td>NULL</td><td>5</td><td>00141-04-011-000</td><td>1112</td><td>2732</td><td>0</td><td>0</td><td>2003</td><td>AVG</td><td>C</td><td>1</td><td>2</td><td>Att</td><td>2</td><td>NULL</td><td>NULL</td><td>4</td><td>3</td><td>NULL</td><td>TWO-STORY</td><td>175000</td><td>0</td><td>175000</td><td>175000</td><td>3</td><td>2012</td><td>U</td><td>I</td></tr>",
                            "<tr><td>6</td><td>1</td><td>NULL</td><td>NULL</td><td>NULL</td><td>5</td><td>00141-05-012-000</td><td>1112</td><td>2927</td><td>0</td><td>0</td><td>2005</td><td>AVG</td><td>C</td><td>1</td><td>2</td><td>Att</td><td>2</td><td>NULL</td><td>NULL</td><td>4</td><td>3</td><td>NULL</td><td>TWO-STORY</td><td>175000</td><td>0</td><td>175000</td><td>175000</td><td>3</td><td>2011</td><td>Q</td><td>I</td></tr>",
                            "<tr><td>6</td><td>1</td><td>NULL</td><td>NULL</td><td>NULL</td><td>5</td><td>00141-13-002-000</td><td>1112</td><td>2811</td><td>0</td><td>0</td><td>2004</td><td>AVG</td><td>C</td><td>1</td><td>2</td><td>Att</td><td>2</td><td>NULL</td><td>NULL</td><td>4</td><td>3</td><td>NULL</td><td>TWO-STORY</td><td>178200</td><td>5300</td><td>172900</td><td>172900</td><td>11</td><td>2011</td><td>Q</td><td>I</td></tr>",
                            "</table>"
                        ]
                    }
                }
            ],
            "execution_count": 8
        },
        {
            "cell_type": "code",
            "source": [
                "SELECT top 15 *\r\n",
                "FROM Land_Transfer"
            ],
            "metadata": {
                "language": "sql",
                "azdata_cell_guid": "6f29a533-2d6b-4988-b3a9-111ede089227"
            },
            "outputs": [
                {
                    "output_type": "display_data",
                    "data": {
                        "text/html": "(15 rows affected)"
                    },
                    "metadata": {}
                },
                {
                    "output_type": "display_data",
                    "data": {
                        "text/html": "Total execution time: 00:00:00.002"
                    },
                    "metadata": {}
                },
                {
                    "output_type": "execute_result",
                    "metadata": {},
                    "execution_count": 9,
                    "data": {
                        "application/vnd.dataresource+json": {
                            "schema": {
                                "fields": [
                                    {
                                        "name": "PARID"
                                    },
                                    {
                                        "name": "RECEPTION_NUM"
                                    },
                                    {
                                        "name": "INSTRUMENT"
                                    },
                                    {
                                        "name": "SALE_YEAR"
                                    },
                                    {
                                        "name": "SALE_MONTHDAY"
                                    },
                                    {
                                        "name": "RECEPTION_DATE"
                                    },
                                    {
                                        "name": "SALE_PRICE"
                                    },
                                    {
                                        "name": "GRANTOR"
                                    },
                                    {
                                        "name": "GRANTEE"
                                    },
                                    {
                                        "name": "CLASS"
                                    },
                                    {
                                        "name": "MKT_CLUS"
                                    },
                                    {
                                        "name": "D_CLASS"
                                    },
                                    {
                                        "name": "D_CLASS_N"
                                    },
                                    {
                                        "name": "NBHD_1"
                                    },
                                    {
                                        "name": "NBHD_1_CN"
                                    }
                                ]
                            },
                            "data": [
                                {
                                    "0": "0232319031000",
                                    "1": "2017008883",
                                    "2": "SW",
                                    "3": "2017",
                                    "4": "0117",
                                    "5": "20170123",
                                    "6": "434927",
                                    "7": "SLOANS ROW LLC",
                                    "8": "LAMEI,CHRISTOPHER H",
                                    "9": "H",
                                    "10": "58",
                                    "11": "194",
                                    "12": "RESIDENTIAL-ROWHOUSE",
                                    "13": "0247",
                                    "14": "E SLOANS LAKE"
                                },
                                {
                                    "0": "0232319031000",
                                    "1": "2020124751",
                                    "2": "WD",
                                    "3": "2020",
                                    "4": "0807",
                                    "5": "20200811",
                                    "6": "540000",
                                    "7": "LAMEI,CHRISTOPHER H",
                                    "8": "RAMHOLD,CALVIN",
                                    "9": "H",
                                    "10": "58",
                                    "11": "194",
                                    "12": "RESIDENTIAL-ROWHOUSE",
                                    "13": "0247",
                                    "14": "E SLOANS LAKE"
                                },
                                {
                                    "0": "0232319032000",
                                    "1": "2015117254",
                                    "2": "PS",
                                    "3": "2015",
                                    "4": "0616",
                                    "5": "20150820",
                                    "6": "0",
                                    "7": "SLOANS LCP LLC",
                                    "8": "SLOANS LCP LLC",
                                    "9": "H",
                                    "10": "58",
                                    "11": "194",
                                    "12": "RESIDENTIAL-ROWHOUSE",
                                    "13": "0247",
                                    "14": "E SLOANS LAKE"
                                },
                                {
                                    "0": "0232319032000",
                                    "1": "2015149130",
                                    "2": "WD",
                                    "3": "2015",
                                    "4": "1020",
                                    "5": "20151022",
                                    "6": "0",
                                    "7": "SLOANS LCP LLC",
                                    "8": "SLOANS ROW LLC",
                                    "9": "H",
                                    "10": "58",
                                    "11": "194",
                                    "12": "RESIDENTIAL-ROWHOUSE",
                                    "13": "0247",
                                    "14": "E SLOANS LAKE"
                                },
                                {
                                    "0": "0232319032000",
                                    "1": "2017057561",
                                    "2": "WD",
                                    "3": "2017",
                                    "4": "0426",
                                    "5": "20170502",
                                    "6": "489900",
                                    "7": "SLOANS ROW LLC",
                                    "8": "KOZIEL,THOMAS",
                                    "9": "H",
                                    "10": "58",
                                    "11": "194",
                                    "12": "RESIDENTIAL-ROWHOUSE",
                                    "13": "0247",
                                    "14": "E SLOANS LAKE"
                                },
                                {
                                    "0": "0232319032000",
                                    "1": "2021160717",
                                    "2": "SW",
                                    "3": "2021",
                                    "4": "0820",
                                    "5": "20210824",
                                    "6": "610000",
                                    "7": "KOZIEL,THOMAS",
                                    "8": "LEE,ANGELA",
                                    "9": "H",
                                    "10": "58",
                                    "11": "194",
                                    "12": "RESIDENTIAL-ROWHOUSE",
                                    "13": "0247",
                                    "14": "E SLOANS LAKE"
                                },
                                {
                                    "0": "0232319033000",
                                    "1": "2015117254",
                                    "2": "PS",
                                    "3": "2015",
                                    "4": "0616",
                                    "5": "20150820",
                                    "6": "0",
                                    "7": "SLOANS LCP LLC",
                                    "8": "SLOANS LCP LLC",
                                    "9": "H",
                                    "10": "58",
                                    "11": "194",
                                    "12": "RESIDENTIAL-ROWHOUSE",
                                    "13": "0247",
                                    "14": "E SLOANS LAKE"
                                },
                                {
                                    "0": "0232319033000",
                                    "1": "2015149130",
                                    "2": "WD",
                                    "3": "2015",
                                    "4": "1020",
                                    "5": "20151022",
                                    "6": "0",
                                    "7": "SLOANS LCP LLC",
                                    "8": "SLOANS ROW LLC",
                                    "9": "H",
                                    "10": "58",
                                    "11": "194",
                                    "12": "RESIDENTIAL-ROWHOUSE",
                                    "13": "0247",
                                    "14": "E SLOANS LAKE"
                                },
                                {
                                    "0": "0232319033000",
                                    "1": "2017012542",
                                    "2": "WD",
                                    "3": "2017",
                                    "4": "0111",
                                    "5": "20170130",
                                    "6": "363889",
                                    "7": "SLOANS ROW LLC",
                                    "8": "FARR,RACHEL",
                                    "9": "H",
                                    "10": "58",
                                    "11": "194",
                                    "12": "RESIDENTIAL-ROWHOUSE",
                                    "13": "0247",
                                    "14": "E SLOANS LAKE"
                                },
                                {
                                    "0": "0232319033000",
                                    "1": "2019090397",
                                    "2": "WD",
                                    "3": "2019",
                                    "4": "0711",
                                    "5": "20190712",
                                    "6": "400000",
                                    "7": "FARR,RACHEL",
                                    "8": "OLSON,KERRY",
                                    "9": "H",
                                    "10": "58",
                                    "11": "194",
                                    "12": "RESIDENTIAL-ROWHOUSE",
                                    "13": "0247",
                                    "14": "E SLOANS LAKE"
                                },
                                {
                                    "0": "0232319034000",
                                    "1": "2015117254",
                                    "2": "PS",
                                    "3": "2015",
                                    "4": "0616",
                                    "5": "20150820",
                                    "6": "0",
                                    "7": "SLOANS LCP LLC",
                                    "8": "SLOANS LCP LLC",
                                    "9": "H",
                                    "10": "58",
                                    "11": "194",
                                    "12": "RESIDENTIAL-ROWHOUSE",
                                    "13": "0247",
                                    "14": "E SLOANS LAKE"
                                },
                                {
                                    "0": "0232319034000",
                                    "1": "2015149130",
                                    "2": "WD",
                                    "3": "2015",
                                    "4": "1020",
                                    "5": "20151022",
                                    "6": "0",
                                    "7": "SLOANS LCP LLC",
                                    "8": "SLOANS ROW LLC",
                                    "9": "H",
                                    "10": "58",
                                    "11": "194",
                                    "12": "RESIDENTIAL-ROWHOUSE",
                                    "13": "0247",
                                    "14": "E SLOANS LAKE"
                                },
                                {
                                    "0": "0232319034000",
                                    "1": "2017015201",
                                    "2": "SW",
                                    "3": "2017",
                                    "4": "0111",
                                    "5": "20170203",
                                    "6": "478202",
                                    "7": "SLOANS ROW LLC",
                                    "8": "MARTINEZ,ROBERTA P",
                                    "9": "H",
                                    "10": "58",
                                    "11": "194",
                                    "12": "RESIDENTIAL-ROWHOUSE",
                                    "13": "0247",
                                    "14": "E SLOANS LAKE"
                                },
                                {
                                    "0": "0232319035000",
                                    "1": "2015117254",
                                    "2": "PS",
                                    "3": "2015",
                                    "4": "0616",
                                    "5": "20150820",
                                    "6": "0",
                                    "7": "SLOANS LCP LLC",
                                    "8": "SLOANS LCP LLC",
                                    "9": "H",
                                    "10": "58",
                                    "11": "194",
                                    "12": "RESIDENTIAL-ROWHOUSE",
                                    "13": "0247",
                                    "14": "E SLOANS LAKE"
                                },
                                {
                                    "0": "0232319035000",
                                    "1": "2015149130",
                                    "2": "WD",
                                    "3": "2015",
                                    "4": "1020",
                                    "5": "20151022",
                                    "6": "0",
                                    "7": "SLOANS LCP LLC",
                                    "8": "SLOANS ROW LLC",
                                    "9": "H",
                                    "10": "58",
                                    "11": "194",
                                    "12": "RESIDENTIAL-ROWHOUSE",
                                    "13": "0247",
                                    "14": "E SLOANS LAKE"
                                }
                            ]
                        },
                        "text/html": [
                            "<table>",
                            "<tr><th>PARID</th><th>RECEPTION_NUM</th><th>INSTRUMENT</th><th>SALE_YEAR</th><th>SALE_MONTHDAY</th><th>RECEPTION_DATE</th><th>SALE_PRICE</th><th>GRANTOR</th><th>GRANTEE</th><th>CLASS</th><th>MKT_CLUS</th><th>D_CLASS</th><th>D_CLASS_N</th><th>NBHD_1</th><th>NBHD_1_CN</th></tr>",
                            "<tr><td>0232319031000</td><td>2017008883</td><td>SW</td><td>2017</td><td>0117</td><td>20170123</td><td>434927</td><td>SLOANS ROW LLC</td><td>LAMEI,CHRISTOPHER H</td><td>H</td><td>58</td><td>194</td><td>RESIDENTIAL-ROWHOUSE</td><td>0247</td><td>E SLOANS LAKE</td></tr>",
                            "<tr><td>0232319031000</td><td>2020124751</td><td>WD</td><td>2020</td><td>0807</td><td>20200811</td><td>540000</td><td>LAMEI,CHRISTOPHER H</td><td>RAMHOLD,CALVIN</td><td>H</td><td>58</td><td>194</td><td>RESIDENTIAL-ROWHOUSE</td><td>0247</td><td>E SLOANS LAKE</td></tr>",
                            "<tr><td>0232319032000</td><td>2015117254</td><td>PS</td><td>2015</td><td>0616</td><td>20150820</td><td>0</td><td>SLOANS LCP LLC</td><td>SLOANS LCP LLC</td><td>H</td><td>58</td><td>194</td><td>RESIDENTIAL-ROWHOUSE</td><td>0247</td><td>E SLOANS LAKE</td></tr>",
                            "<tr><td>0232319032000</td><td>2015149130</td><td>WD</td><td>2015</td><td>1020</td><td>20151022</td><td>0</td><td>SLOANS LCP LLC</td><td>SLOANS ROW LLC</td><td>H</td><td>58</td><td>194</td><td>RESIDENTIAL-ROWHOUSE</td><td>0247</td><td>E SLOANS LAKE</td></tr>",
                            "<tr><td>0232319032000</td><td>2017057561</td><td>WD</td><td>2017</td><td>0426</td><td>20170502</td><td>489900</td><td>SLOANS ROW LLC</td><td>KOZIEL,THOMAS</td><td>H</td><td>58</td><td>194</td><td>RESIDENTIAL-ROWHOUSE</td><td>0247</td><td>E SLOANS LAKE</td></tr>",
                            "<tr><td>0232319032000</td><td>2021160717</td><td>SW</td><td>2021</td><td>0820</td><td>20210824</td><td>610000</td><td>KOZIEL,THOMAS</td><td>LEE,ANGELA</td><td>H</td><td>58</td><td>194</td><td>RESIDENTIAL-ROWHOUSE</td><td>0247</td><td>E SLOANS LAKE</td></tr>",
                            "<tr><td>0232319033000</td><td>2015117254</td><td>PS</td><td>2015</td><td>0616</td><td>20150820</td><td>0</td><td>SLOANS LCP LLC</td><td>SLOANS LCP LLC</td><td>H</td><td>58</td><td>194</td><td>RESIDENTIAL-ROWHOUSE</td><td>0247</td><td>E SLOANS LAKE</td></tr>",
                            "<tr><td>0232319033000</td><td>2015149130</td><td>WD</td><td>2015</td><td>1020</td><td>20151022</td><td>0</td><td>SLOANS LCP LLC</td><td>SLOANS ROW LLC</td><td>H</td><td>58</td><td>194</td><td>RESIDENTIAL-ROWHOUSE</td><td>0247</td><td>E SLOANS LAKE</td></tr>",
                            "<tr><td>0232319033000</td><td>2017012542</td><td>WD</td><td>2017</td><td>0111</td><td>20170130</td><td>363889</td><td>SLOANS ROW LLC</td><td>FARR,RACHEL</td><td>H</td><td>58</td><td>194</td><td>RESIDENTIAL-ROWHOUSE</td><td>0247</td><td>E SLOANS LAKE</td></tr>",
                            "<tr><td>0232319033000</td><td>2019090397</td><td>WD</td><td>2019</td><td>0711</td><td>20190712</td><td>400000</td><td>FARR,RACHEL</td><td>OLSON,KERRY</td><td>H</td><td>58</td><td>194</td><td>RESIDENTIAL-ROWHOUSE</td><td>0247</td><td>E SLOANS LAKE</td></tr>",
                            "<tr><td>0232319034000</td><td>2015117254</td><td>PS</td><td>2015</td><td>0616</td><td>20150820</td><td>0</td><td>SLOANS LCP LLC</td><td>SLOANS LCP LLC</td><td>H</td><td>58</td><td>194</td><td>RESIDENTIAL-ROWHOUSE</td><td>0247</td><td>E SLOANS LAKE</td></tr>",
                            "<tr><td>0232319034000</td><td>2015149130</td><td>WD</td><td>2015</td><td>1020</td><td>20151022</td><td>0</td><td>SLOANS LCP LLC</td><td>SLOANS ROW LLC</td><td>H</td><td>58</td><td>194</td><td>RESIDENTIAL-ROWHOUSE</td><td>0247</td><td>E SLOANS LAKE</td></tr>",
                            "<tr><td>0232319034000</td><td>2017015201</td><td>SW</td><td>2017</td><td>0111</td><td>20170203</td><td>478202</td><td>SLOANS ROW LLC</td><td>MARTINEZ,ROBERTA P</td><td>H</td><td>58</td><td>194</td><td>RESIDENTIAL-ROWHOUSE</td><td>0247</td><td>E SLOANS LAKE</td></tr>",
                            "<tr><td>0232319035000</td><td>2015117254</td><td>PS</td><td>2015</td><td>0616</td><td>20150820</td><td>0</td><td>SLOANS LCP LLC</td><td>SLOANS LCP LLC</td><td>H</td><td>58</td><td>194</td><td>RESIDENTIAL-ROWHOUSE</td><td>0247</td><td>E SLOANS LAKE</td></tr>",
                            "<tr><td>0232319035000</td><td>2015149130</td><td>WD</td><td>2015</td><td>1020</td><td>20151022</td><td>0</td><td>SLOANS LCP LLC</td><td>SLOANS ROW LLC</td><td>H</td><td>58</td><td>194</td><td>RESIDENTIAL-ROWHOUSE</td><td>0247</td><td>E SLOANS LAKE</td></tr>",
                            "</table>"
                        ]
                    }
                }
            ],
            "execution_count": 9
        },
        {
            "cell_type": "code",
            "source": [
                "-- Aggregate crime neighborhood names across the studied period and join them to land trasfer dataset on neighborhood name\r\n",
                "SELECT distinct top 15 L.NBHD_1 as NBHD_No, L.NBHD_1_CN AS NBHD_Name_Sales, C.NBHD_Name_Crime\r\n",
                "FROM Crime_Data C\r\n",
                "Full Join Land_Transfer L on L.NBHD_1_CN = C.NBHD_Name_Crime\r\n",
                "order by NBHD_No"
            ],
            "metadata": {
                "language": "sql",
                "azdata_cell_guid": "d8fbe62d-5bca-487b-9df4-7bf3f3ad109a"
            },
            "outputs": [
                {
                    "output_type": "display_data",
                    "data": {
                        "text/html": "(15 rows affected)"
                    },
                    "metadata": {}
                },
                {
                    "output_type": "display_data",
                    "data": {
                        "text/html": "Total execution time: 00:00:01.303"
                    },
                    "metadata": {}
                },
                {
                    "output_type": "execute_result",
                    "metadata": {},
                    "execution_count": 10,
                    "data": {
                        "application/vnd.dataresource+json": {
                            "schema": {
                                "fields": [
                                    {
                                        "name": "NBHD_No"
                                    },
                                    {
                                        "name": "NBHD_Name_Sales"
                                    },
                                    {
                                        "name": "NBHD_Name_Crime"
                                    }
                                ]
                            },
                            "data": [
                                {
                                    "0": "NULL",
                                    "1": "NULL",
                                    "2": "NULL"
                                },
                                {
                                    "0": "NULL",
                                    "1": "NULL",
                                    "2": "barnum west"
                                },
                                {
                                    "0": "NULL",
                                    "1": "NULL",
                                    "2": "city park"
                                },
                                {
                                    "0": "NULL",
                                    "1": "NULL",
                                    "2": "city park west"
                                },
                                {
                                    "0": "NULL",
                                    "1": "NULL",
                                    "2": "college view south platte"
                                },
                                {
                                    "0": "NULL",
                                    "1": "NULL",
                                    "2": "dia"
                                },
                                {
                                    "0": "NULL",
                                    "1": "NULL",
                                    "2": "east colfax"
                                },
                                {
                                    "0": "NULL",
                                    "1": "NULL",
                                    "2": "elyria swansea"
                                },
                                {
                                    "0": "NULL",
                                    "1": "NULL",
                                    "2": "gateway green valley ranch"
                                },
                                {
                                    "0": "NULL",
                                    "1": "NULL",
                                    "2": "hale"
                                },
                                {
                                    "0": "NULL",
                                    "1": "NULL",
                                    "2": "hampden"
                                },
                                {
                                    "0": "NULL",
                                    "1": "NULL",
                                    "2": "hampden south"
                                },
                                {
                                    "0": "NULL",
                                    "1": "NULL",
                                    "2": "harvey park south"
                                },
                                {
                                    "0": "NULL",
                                    "1": "NULL",
                                    "2": "lowry field"
                                },
                                {
                                    "0": "NULL",
                                    "1": "NULL",
                                    "2": "marston"
                                }
                            ]
                        },
                        "text/html": [
                            "<table>",
                            "<tr><th>NBHD_No</th><th>NBHD_Name_Sales</th><th>NBHD_Name_Crime</th></tr>",
                            "<tr><td>NULL</td><td>NULL</td><td>NULL</td></tr>",
                            "<tr><td>NULL</td><td>NULL</td><td>barnum west</td></tr>",
                            "<tr><td>NULL</td><td>NULL</td><td>city park</td></tr>",
                            "<tr><td>NULL</td><td>NULL</td><td>city park west</td></tr>",
                            "<tr><td>NULL</td><td>NULL</td><td>college view south platte</td></tr>",
                            "<tr><td>NULL</td><td>NULL</td><td>dia</td></tr>",
                            "<tr><td>NULL</td><td>NULL</td><td>east colfax</td></tr>",
                            "<tr><td>NULL</td><td>NULL</td><td>elyria swansea</td></tr>",
                            "<tr><td>NULL</td><td>NULL</td><td>gateway green valley ranch</td></tr>",
                            "<tr><td>NULL</td><td>NULL</td><td>hale</td></tr>",
                            "<tr><td>NULL</td><td>NULL</td><td>hampden</td></tr>",
                            "<tr><td>NULL</td><td>NULL</td><td>hampden south</td></tr>",
                            "<tr><td>NULL</td><td>NULL</td><td>harvey park south</td></tr>",
                            "<tr><td>NULL</td><td>NULL</td><td>lowry field</td></tr>",
                            "<tr><td>NULL</td><td>NULL</td><td>marston</td></tr>",
                            "</table>"
                        ]
                    }
                }
            ],
            "execution_count": 10
        },
        {
            "cell_type": "markdown",
            "source": [
                "the output is inspected in Excel to match the remaining neighborhood names to produce Neighborhood Mapping Key"
            ],
            "metadata": {
                "language": "sql",
                "azdata_cell_guid": "09627329-08a8-4bff-adb3-97ab3211e980"
            },
            "attachments": {}
        },
        {
            "cell_type": "code",
            "source": [
                "SELECT top 10 *\r\n",
                "FROM Neighborhood_Mapping"
            ],
            "metadata": {
                "language": "sql",
                "azdata_cell_guid": "af371f04-ddf6-4890-8176-a4a3435ed39c"
            },
            "outputs": [
                {
                    "output_type": "display_data",
                    "data": {
                        "text/html": "(10 rows affected)"
                    },
                    "metadata": {}
                },
                {
                    "output_type": "display_data",
                    "data": {
                        "text/html": "Total execution time: 00:00:00.002"
                    },
                    "metadata": {}
                },
                {
                    "output_type": "execute_result",
                    "metadata": {},
                    "execution_count": 12,
                    "data": {
                        "application/vnd.dataresource+json": {
                            "schema": {
                                "fields": [
                                    {
                                        "name": "NBHD_No"
                                    },
                                    {
                                        "name": "NBHD_Name_Sales"
                                    },
                                    {
                                        "name": "NBHD_Name_Crime"
                                    }
                                ]
                            },
                            "data": [
                                {
                                    "0": "1",
                                    "1": "MONTBELLO",
                                    "2": "montbello"
                                },
                                {
                                    "0": "1",
                                    "1": "MONTBELLO",
                                    "2": "dia"
                                },
                                {
                                    "0": "2",
                                    "1": "PARKFIELD",
                                    "2": "NULL"
                                },
                                {
                                    "0": "3",
                                    "1": "GREEN VALLEY",
                                    "2": "gateway green valley ranch"
                                },
                                {
                                    "0": "4",
                                    "1": "GATEWAY N",
                                    "2": "gateway green valley ranch"
                                },
                                {
                                    "0": "5",
                                    "1": "N GREEN VALLEY",
                                    "2": "gateway green valley ranch"
                                },
                                {
                                    "0": "6",
                                    "1": "C GREEN VALLEY",
                                    "2": "gateway green valley ranch"
                                },
                                {
                                    "0": "101",
                                    "1": "CENTRAL PARK",
                                    "2": "central park"
                                },
                                {
                                    "0": "102",
                                    "1": "CENTRAL PARK",
                                    "2": "central park"
                                },
                                {
                                    "0": "103",
                                    "1": "NE PARK HILL",
                                    "2": "northeast park hill"
                                }
                            ]
                        },
                        "text/html": [
                            "<table>",
                            "<tr><th>NBHD_No</th><th>NBHD_Name_Sales</th><th>NBHD_Name_Crime</th></tr>",
                            "<tr><td>1</td><td>MONTBELLO</td><td>montbello</td></tr>",
                            "<tr><td>1</td><td>MONTBELLO</td><td>dia</td></tr>",
                            "<tr><td>2</td><td>PARKFIELD</td><td>NULL</td></tr>",
                            "<tr><td>3</td><td>GREEN VALLEY</td><td>gateway green valley ranch</td></tr>",
                            "<tr><td>4</td><td>GATEWAY N</td><td>gateway green valley ranch</td></tr>",
                            "<tr><td>5</td><td>N GREEN VALLEY</td><td>gateway green valley ranch</td></tr>",
                            "<tr><td>6</td><td>C GREEN VALLEY</td><td>gateway green valley ranch</td></tr>",
                            "<tr><td>101</td><td>CENTRAL PARK</td><td>central park</td></tr>",
                            "<tr><td>102</td><td>CENTRAL PARK</td><td>central park</td></tr>",
                            "<tr><td>103</td><td>NE PARK HILL</td><td>northeast park hill</td></tr>",
                            "</table>"
                        ]
                    }
                }
            ],
            "execution_count": 12
        },
        {
            "cell_type": "code",
            "source": [
                "-- Join Real Estate Sales data on Crime data using the Neighborhood Mapping Key on Neighborhood ID & Name and on month and year\r\n",
                "SELECT top 15 *\r\n",
                "FROM (SELECT ROW_NUMBER() OVER (ORDER BY NBHD) AS SN, * FROM SalesBook) S\r\n",
                "Left join Neighborhood_Mapping M on S.NBHD = CAST(M.NBHD_No AS float)\r\n",
                "Inner join Crime_Data C on M.NBHD_Name_Crime = C.NBHD_Name_Crime\r\n",
                "\tand S.SMONTH = C.Month\r\n",
                "\tand S.SYEAR = C.Year\r\n",
                "ORDER by SN"
            ],
            "metadata": {
                "language": "sql",
                "azdata_cell_guid": "aa6b78b5-efd3-4ab9-9487-4e8078369cc5"
            },
            "outputs": [
                {
                    "output_type": "display_data",
                    "data": {
                        "text/html": "(15 rows affected)"
                    },
                    "metadata": {}
                },
                {
                    "output_type": "display_data",
                    "data": {
                        "text/html": "Total execution time: 00:00:00.036"
                    },
                    "metadata": {}
                },
                {
                    "output_type": "execute_result",
                    "execution_count": 15,
                    "data": {
                        "application/vnd.dataresource+json": {
                            "schema": {
                                "fields": [
                                    {
                                        "name": "SN"
                                    },
                                    {
                                        "name": "Model"
                                    },
                                    {
                                        "name": "Cluster"
                                    },
                                    {
                                        "name": "Group"
                                    },
                                    {
                                        "name": "CondoComplex"
                                    },
                                    {
                                        "name": "CondoComplexName"
                                    },
                                    {
                                        "name": "NBHD"
                                    },
                                    {
                                        "name": "PARCEL"
                                    },
                                    {
                                        "name": "ABSTRPRD"
                                    },
                                    {
                                        "name": "LIVEAREA"
                                    },
                                    {
                                        "name": "FINBSMNT"
                                    },
                                    {
                                        "name": "BASEMENT"
                                    },
                                    {
                                        "name": "YRBUILT"
                                    },
                                    {
                                        "name": "CONDITION"
                                    },
                                    {
                                        "name": "QUALITY"
                                    },
                                    {
                                        "name": "TOTUNITS"
                                    },
                                    {
                                        "name": "STORIES"
                                    },
                                    {
                                        "name": "GARTYPE"
                                    },
                                    {
                                        "name": "NOCARS"
                                    },
                                    {
                                        "name": "XTRAFFIC"
                                    },
                                    {
                                        "name": "FLOORLVL"
                                    },
                                    {
                                        "name": "NUMBDRM"
                                    },
                                    {
                                        "name": "NUMBATHS"
                                    },
                                    {
                                        "name": "COMMUSE"
                                    },
                                    {
                                        "name": "ARCSTYLE"
                                    },
                                    {
                                        "name": "SPRICE"
                                    },
                                    {
                                        "name": "DEDUCT"
                                    },
                                    {
                                        "name": "NETPRICE"
                                    },
                                    {
                                        "name": "TASP"
                                    },
                                    {
                                        "name": "SMONTH"
                                    },
                                    {
                                        "name": "SYEAR"
                                    },
                                    {
                                        "name": "QUALIFIED"
                                    },
                                    {
                                        "name": "STATUS"
                                    },
                                    {
                                        "name": "NBHD_No"
                                    },
                                    {
                                        "name": "NBHD_Name_Sales"
                                    },
                                    {
                                        "name": "NBHD_Name_Crime"
                                    },
                                    {
                                        "name": "OFFENSE_CATEGORY"
                                    },
                                    {
                                        "name": "Year"
                                    },
                                    {
                                        "name": "Month"
                                    },
                                    {
                                        "name": "Count"
                                    },
                                    {
                                        "name": "NBHD_Name_Crime"
                                    }
                                ]
                            },
                            "data": [
                                {
                                    "0": "1",
                                    "1": "41",
                                    "2": "1",
                                    "3": "NULL",
                                    "4": "634",
                                    "5": "Trails at Parkfield Lake-Phase I",
                                    "6": "1",
                                    "7": "00174-04-008-008",
                                    "8": "1130",
                                    "9": "925",
                                    "10": "0",
                                    "11": "0",
                                    "12": "2002",
                                    "13": "AVG",
                                    "14": "C",
                                    "15": "1",
                                    "16": "1",
                                    "17": "None",
                                    "18": "0",
                                    "19": "NULL",
                                    "20": "1",
                                    "21": "1",
                                    "22": "2",
                                    "23": "NULL",
                                    "24": "MIDDLE UNIT",
                                    "25": "55000",
                                    "26": "1500",
                                    "27": "53500",
                                    "28": "53500",
                                    "29": "9",
                                    "30": "2011",
                                    "31": "Q",
                                    "32": "I",
                                    "33": "1",
                                    "34": "MONTBELLO",
                                    "35": "montbello",
                                    "36": "auto theft",
                                    "37": "2011",
                                    "38": "9",
                                    "39": "5",
                                    "40": "montbello"
                                },
                                {
                                    "0": "1",
                                    "1": "41",
                                    "2": "1",
                                    "3": "NULL",
                                    "4": "634",
                                    "5": "Trails at Parkfield Lake-Phase I",
                                    "6": "1",
                                    "7": "00174-04-008-008",
                                    "8": "1130",
                                    "9": "925",
                                    "10": "0",
                                    "11": "0",
                                    "12": "2002",
                                    "13": "AVG",
                                    "14": "C",
                                    "15": "1",
                                    "16": "1",
                                    "17": "None",
                                    "18": "0",
                                    "19": "NULL",
                                    "20": "1",
                                    "21": "1",
                                    "22": "2",
                                    "23": "NULL",
                                    "24": "MIDDLE UNIT",
                                    "25": "55000",
                                    "26": "1500",
                                    "27": "53500",
                                    "28": "53500",
                                    "29": "9",
                                    "30": "2011",
                                    "31": "Q",
                                    "32": "I",
                                    "33": "1",
                                    "34": "MONTBELLO",
                                    "35": "montbello",
                                    "36": "sexual assault",
                                    "37": "2011",
                                    "38": "9",
                                    "39": "3",
                                    "40": "montbello"
                                },
                                {
                                    "0": "1",
                                    "1": "41",
                                    "2": "1",
                                    "3": "NULL",
                                    "4": "634",
                                    "5": "Trails at Parkfield Lake-Phase I",
                                    "6": "1",
                                    "7": "00174-04-008-008",
                                    "8": "1130",
                                    "9": "925",
                                    "10": "0",
                                    "11": "0",
                                    "12": "2002",
                                    "13": "AVG",
                                    "14": "C",
                                    "15": "1",
                                    "16": "1",
                                    "17": "None",
                                    "18": "0",
                                    "19": "NULL",
                                    "20": "1",
                                    "21": "1",
                                    "22": "2",
                                    "23": "NULL",
                                    "24": "MIDDLE UNIT",
                                    "25": "55000",
                                    "26": "1500",
                                    "27": "53500",
                                    "28": "53500",
                                    "29": "9",
                                    "30": "2011",
                                    "31": "Q",
                                    "32": "I",
                                    "33": "1",
                                    "34": "MONTBELLO",
                                    "35": "montbello",
                                    "36": "other crimes against persons",
                                    "37": "2011",
                                    "38": "9",
                                    "39": "9",
                                    "40": "montbello"
                                },
                                {
                                    "0": "1",
                                    "1": "41",
                                    "2": "1",
                                    "3": "NULL",
                                    "4": "634",
                                    "5": "Trails at Parkfield Lake-Phase I",
                                    "6": "1",
                                    "7": "00174-04-008-008",
                                    "8": "1130",
                                    "9": "925",
                                    "10": "0",
                                    "11": "0",
                                    "12": "2002",
                                    "13": "AVG",
                                    "14": "C",
                                    "15": "1",
                                    "16": "1",
                                    "17": "None",
                                    "18": "0",
                                    "19": "NULL",
                                    "20": "1",
                                    "21": "1",
                                    "22": "2",
                                    "23": "NULL",
                                    "24": "MIDDLE UNIT",
                                    "25": "55000",
                                    "26": "1500",
                                    "27": "53500",
                                    "28": "53500",
                                    "29": "9",
                                    "30": "2011",
                                    "31": "Q",
                                    "32": "I",
                                    "33": "1",
                                    "34": "MONTBELLO",
                                    "35": "montbello",
                                    "36": "aggravated assault",
                                    "37": "2011",
                                    "38": "9",
                                    "39": "2",
                                    "40": "montbello"
                                },
                                {
                                    "0": "1",
                                    "1": "41",
                                    "2": "1",
                                    "3": "NULL",
                                    "4": "634",
                                    "5": "Trails at Parkfield Lake-Phase I",
                                    "6": "1",
                                    "7": "00174-04-008-008",
                                    "8": "1130",
                                    "9": "925",
                                    "10": "0",
                                    "11": "0",
                                    "12": "2002",
                                    "13": "AVG",
                                    "14": "C",
                                    "15": "1",
                                    "16": "1",
                                    "17": "None",
                                    "18": "0",
                                    "19": "NULL",
                                    "20": "1",
                                    "21": "1",
                                    "22": "2",
                                    "23": "NULL",
                                    "24": "MIDDLE UNIT",
                                    "25": "55000",
                                    "26": "1500",
                                    "27": "53500",
                                    "28": "53500",
                                    "29": "9",
                                    "30": "2011",
                                    "31": "Q",
                                    "32": "I",
                                    "33": "1",
                                    "34": "MONTBELLO",
                                    "35": "montbello",
                                    "36": "all other crimes",
                                    "37": "2011",
                                    "38": "9",
                                    "39": "4",
                                    "40": "montbello"
                                },
                                {
                                    "0": "1",
                                    "1": "41",
                                    "2": "1",
                                    "3": "NULL",
                                    "4": "634",
                                    "5": "Trails at Parkfield Lake-Phase I",
                                    "6": "1",
                                    "7": "00174-04-008-008",
                                    "8": "1130",
                                    "9": "925",
                                    "10": "0",
                                    "11": "0",
                                    "12": "2002",
                                    "13": "AVG",
                                    "14": "C",
                                    "15": "1",
                                    "16": "1",
                                    "17": "None",
                                    "18": "0",
                                    "19": "NULL",
                                    "20": "1",
                                    "21": "1",
                                    "22": "2",
                                    "23": "NULL",
                                    "24": "MIDDLE UNIT",
                                    "25": "55000",
                                    "26": "1500",
                                    "27": "53500",
                                    "28": "53500",
                                    "29": "9",
                                    "30": "2011",
                                    "31": "Q",
                                    "32": "I",
                                    "33": "1",
                                    "34": "MONTBELLO",
                                    "35": "montbello",
                                    "36": "drug alcohol",
                                    "37": "2011",
                                    "38": "9",
                                    "39": "5",
                                    "40": "montbello"
                                },
                                {
                                    "0": "1",
                                    "1": "41",
                                    "2": "1",
                                    "3": "NULL",
                                    "4": "634",
                                    "5": "Trails at Parkfield Lake-Phase I",
                                    "6": "1",
                                    "7": "00174-04-008-008",
                                    "8": "1130",
                                    "9": "925",
                                    "10": "0",
                                    "11": "0",
                                    "12": "2002",
                                    "13": "AVG",
                                    "14": "C",
                                    "15": "1",
                                    "16": "1",
                                    "17": "None",
                                    "18": "0",
                                    "19": "NULL",
                                    "20": "1",
                                    "21": "1",
                                    "22": "2",
                                    "23": "NULL",
                                    "24": "MIDDLE UNIT",
                                    "25": "55000",
                                    "26": "1500",
                                    "27": "53500",
                                    "28": "53500",
                                    "29": "9",
                                    "30": "2011",
                                    "31": "Q",
                                    "32": "I",
                                    "33": "1",
                                    "34": "MONTBELLO",
                                    "35": "montbello",
                                    "36": "larceny",
                                    "37": "2011",
                                    "38": "9",
                                    "39": "17",
                                    "40": "montbello"
                                },
                                {
                                    "0": "1",
                                    "1": "41",
                                    "2": "1",
                                    "3": "NULL",
                                    "4": "634",
                                    "5": "Trails at Parkfield Lake-Phase I",
                                    "6": "1",
                                    "7": "00174-04-008-008",
                                    "8": "1130",
                                    "9": "925",
                                    "10": "0",
                                    "11": "0",
                                    "12": "2002",
                                    "13": "AVG",
                                    "14": "C",
                                    "15": "1",
                                    "16": "1",
                                    "17": "None",
                                    "18": "0",
                                    "19": "NULL",
                                    "20": "1",
                                    "21": "1",
                                    "22": "2",
                                    "23": "NULL",
                                    "24": "MIDDLE UNIT",
                                    "25": "55000",
                                    "26": "1500",
                                    "27": "53500",
                                    "28": "53500",
                                    "29": "9",
                                    "30": "2011",
                                    "31": "Q",
                                    "32": "I",
                                    "33": "1",
                                    "34": "MONTBELLO",
                                    "35": "montbello",
                                    "36": "theft from motor vehicle",
                                    "37": "2011",
                                    "38": "9",
                                    "39": "9",
                                    "40": "montbello"
                                },
                                {
                                    "0": "1",
                                    "1": "41",
                                    "2": "1",
                                    "3": "NULL",
                                    "4": "634",
                                    "5": "Trails at Parkfield Lake-Phase I",
                                    "6": "1",
                                    "7": "00174-04-008-008",
                                    "8": "1130",
                                    "9": "925",
                                    "10": "0",
                                    "11": "0",
                                    "12": "2002",
                                    "13": "AVG",
                                    "14": "C",
                                    "15": "1",
                                    "16": "1",
                                    "17": "None",
                                    "18": "0",
                                    "19": "NULL",
                                    "20": "1",
                                    "21": "1",
                                    "22": "2",
                                    "23": "NULL",
                                    "24": "MIDDLE UNIT",
                                    "25": "55000",
                                    "26": "1500",
                                    "27": "53500",
                                    "28": "53500",
                                    "29": "9",
                                    "30": "2011",
                                    "31": "Q",
                                    "32": "I",
                                    "33": "1",
                                    "34": "MONTBELLO",
                                    "35": "montbello",
                                    "36": "robbery",
                                    "37": "2011",
                                    "38": "9",
                                    "39": "6",
                                    "40": "montbello"
                                },
                                {
                                    "0": "1",
                                    "1": "41",
                                    "2": "1",
                                    "3": "NULL",
                                    "4": "634",
                                    "5": "Trails at Parkfield Lake-Phase I",
                                    "6": "1",
                                    "7": "00174-04-008-008",
                                    "8": "1130",
                                    "9": "925",
                                    "10": "0",
                                    "11": "0",
                                    "12": "2002",
                                    "13": "AVG",
                                    "14": "C",
                                    "15": "1",
                                    "16": "1",
                                    "17": "None",
                                    "18": "0",
                                    "19": "NULL",
                                    "20": "1",
                                    "21": "1",
                                    "22": "2",
                                    "23": "NULL",
                                    "24": "MIDDLE UNIT",
                                    "25": "55000",
                                    "26": "1500",
                                    "27": "53500",
                                    "28": "53500",
                                    "29": "9",
                                    "30": "2011",
                                    "31": "Q",
                                    "32": "I",
                                    "33": "1",
                                    "34": "MONTBELLO",
                                    "35": "montbello",
                                    "36": "burglary",
                                    "37": "2011",
                                    "38": "9",
                                    "39": "29",
                                    "40": "montbello"
                                },
                                {
                                    "0": "1",
                                    "1": "41",
                                    "2": "1",
                                    "3": "NULL",
                                    "4": "634",
                                    "5": "Trails at Parkfield Lake-Phase I",
                                    "6": "1",
                                    "7": "00174-04-008-008",
                                    "8": "1130",
                                    "9": "925",
                                    "10": "0",
                                    "11": "0",
                                    "12": "2002",
                                    "13": "AVG",
                                    "14": "C",
                                    "15": "1",
                                    "16": "1",
                                    "17": "None",
                                    "18": "0",
                                    "19": "NULL",
                                    "20": "1",
                                    "21": "1",
                                    "22": "2",
                                    "23": "NULL",
                                    "24": "MIDDLE UNIT",
                                    "25": "55000",
                                    "26": "1500",
                                    "27": "53500",
                                    "28": "53500",
                                    "29": "9",
                                    "30": "2011",
                                    "31": "Q",
                                    "32": "I",
                                    "33": "1",
                                    "34": "MONTBELLO",
                                    "35": "montbello",
                                    "36": "public disorder",
                                    "37": "2011",
                                    "38": "9",
                                    "39": "20",
                                    "40": "montbello"
                                },
                                {
                                    "0": "1",
                                    "1": "41",
                                    "2": "1",
                                    "3": "NULL",
                                    "4": "634",
                                    "5": "Trails at Parkfield Lake-Phase I",
                                    "6": "1",
                                    "7": "00174-04-008-008",
                                    "8": "1130",
                                    "9": "925",
                                    "10": "0",
                                    "11": "0",
                                    "12": "2002",
                                    "13": "AVG",
                                    "14": "C",
                                    "15": "1",
                                    "16": "1",
                                    "17": "None",
                                    "18": "0",
                                    "19": "NULL",
                                    "20": "1",
                                    "21": "1",
                                    "22": "2",
                                    "23": "NULL",
                                    "24": "MIDDLE UNIT",
                                    "25": "55000",
                                    "26": "1500",
                                    "27": "53500",
                                    "28": "53500",
                                    "29": "9",
                                    "30": "2011",
                                    "31": "Q",
                                    "32": "I",
                                    "33": "1",
                                    "34": "MONTBELLO",
                                    "35": "montbello",
                                    "36": "white collar crime",
                                    "37": "2011",
                                    "38": "9",
                                    "39": "7",
                                    "40": "montbello"
                                },
                                {
                                    "0": "1",
                                    "1": "41",
                                    "2": "1",
                                    "3": "NULL",
                                    "4": "634",
                                    "5": "Trails at Parkfield Lake-Phase I",
                                    "6": "1",
                                    "7": "00174-04-008-008",
                                    "8": "1130",
                                    "9": "925",
                                    "10": "0",
                                    "11": "0",
                                    "12": "2002",
                                    "13": "AVG",
                                    "14": "C",
                                    "15": "1",
                                    "16": "1",
                                    "17": "None",
                                    "18": "0",
                                    "19": "NULL",
                                    "20": "1",
                                    "21": "1",
                                    "22": "2",
                                    "23": "NULL",
                                    "24": "MIDDLE UNIT",
                                    "25": "55000",
                                    "26": "1500",
                                    "27": "53500",
                                    "28": "53500",
                                    "29": "9",
                                    "30": "2011",
                                    "31": "Q",
                                    "32": "I",
                                    "33": "1",
                                    "34": "MONTBELLO",
                                    "35": "dia",
                                    "36": "white collar crime",
                                    "37": "2011",
                                    "38": "9",
                                    "39": "2",
                                    "40": "dia"
                                },
                                {
                                    "0": "1",
                                    "1": "41",
                                    "2": "1",
                                    "3": "NULL",
                                    "4": "634",
                                    "5": "Trails at Parkfield Lake-Phase I",
                                    "6": "1",
                                    "7": "00174-04-008-008",
                                    "8": "1130",
                                    "9": "925",
                                    "10": "0",
                                    "11": "0",
                                    "12": "2002",
                                    "13": "AVG",
                                    "14": "C",
                                    "15": "1",
                                    "16": "1",
                                    "17": "None",
                                    "18": "0",
                                    "19": "NULL",
                                    "20": "1",
                                    "21": "1",
                                    "22": "2",
                                    "23": "NULL",
                                    "24": "MIDDLE UNIT",
                                    "25": "55000",
                                    "26": "1500",
                                    "27": "53500",
                                    "28": "53500",
                                    "29": "9",
                                    "30": "2011",
                                    "31": "Q",
                                    "32": "I",
                                    "33": "1",
                                    "34": "MONTBELLO",
                                    "35": "dia",
                                    "36": "theft from motor vehicle",
                                    "37": "2011",
                                    "38": "9",
                                    "39": "8",
                                    "40": "dia"
                                },
                                {
                                    "0": "1",
                                    "1": "41",
                                    "2": "1",
                                    "3": "NULL",
                                    "4": "634",
                                    "5": "Trails at Parkfield Lake-Phase I",
                                    "6": "1",
                                    "7": "00174-04-008-008",
                                    "8": "1130",
                                    "9": "925",
                                    "10": "0",
                                    "11": "0",
                                    "12": "2002",
                                    "13": "AVG",
                                    "14": "C",
                                    "15": "1",
                                    "16": "1",
                                    "17": "None",
                                    "18": "0",
                                    "19": "NULL",
                                    "20": "1",
                                    "21": "1",
                                    "22": "2",
                                    "23": "NULL",
                                    "24": "MIDDLE UNIT",
                                    "25": "55000",
                                    "26": "1500",
                                    "27": "53500",
                                    "28": "53500",
                                    "29": "9",
                                    "30": "2011",
                                    "31": "Q",
                                    "32": "I",
                                    "33": "1",
                                    "34": "MONTBELLO",
                                    "35": "dia",
                                    "36": "larceny",
                                    "37": "2011",
                                    "38": "9",
                                    "39": "9",
                                    "40": "dia"
                                }
                            ]
                        },
                        "text/html": "<table><tr><th>SN</th><th>Model</th><th>Cluster</th><th>Group</th><th>CondoComplex</th><th>CondoComplexName</th><th>NBHD</th><th>PARCEL</th><th>ABSTRPRD</th><th>LIVEAREA</th><th>FINBSMNT</th><th>BASEMENT</th><th>YRBUILT</th><th>CONDITION</th><th>QUALITY</th><th>TOTUNITS</th><th>STORIES</th><th>GARTYPE</th><th>NOCARS</th><th>XTRAFFIC</th><th>FLOORLVL</th><th>NUMBDRM</th><th>NUMBATHS</th><th>COMMUSE</th><th>ARCSTYLE</th><th>SPRICE</th><th>DEDUCT</th><th>NETPRICE</th><th>TASP</th><th>SMONTH</th><th>SYEAR</th><th>QUALIFIED</th><th>STATUS</th><th>NBHD_No</th><th>NBHD_Name_Sales</th><th>NBHD_Name_Crime</th><th>OFFENSE_CATEGORY</th><th>Year</th><th>Month</th><th>Count</th><th>NBHD_Name_Crime</th></tr><tr><td>1</td><td>41</td><td>1</td><td>NULL</td><td>634</td><td>Trails at Parkfield Lake-Phase I</td><td>1</td><td>00174-04-008-008</td><td>1130</td><td>925</td><td>0</td><td>0</td><td>2002</td><td>AVG</td><td>C</td><td>1</td><td>1</td><td>None</td><td>0</td><td>NULL</td><td>1</td><td>1</td><td>2</td><td>NULL</td><td>MIDDLE UNIT</td><td>55000</td><td>1500</td><td>53500</td><td>53500</td><td>9</td><td>2011</td><td>Q</td><td>I</td><td>1</td><td>MONTBELLO</td><td>montbello</td><td>auto theft</td><td>2011</td><td>9</td><td>5</td><td>montbello</td></tr><tr><td>1</td><td>41</td><td>1</td><td>NULL</td><td>634</td><td>Trails at Parkfield Lake-Phase I</td><td>1</td><td>00174-04-008-008</td><td>1130</td><td>925</td><td>0</td><td>0</td><td>2002</td><td>AVG</td><td>C</td><td>1</td><td>1</td><td>None</td><td>0</td><td>NULL</td><td>1</td><td>1</td><td>2</td><td>NULL</td><td>MIDDLE UNIT</td><td>55000</td><td>1500</td><td>53500</td><td>53500</td><td>9</td><td>2011</td><td>Q</td><td>I</td><td>1</td><td>MONTBELLO</td><td>montbello</td><td>sexual assault</td><td>2011</td><td>9</td><td>3</td><td>montbello</td></tr><tr><td>1</td><td>41</td><td>1</td><td>NULL</td><td>634</td><td>Trails at Parkfield Lake-Phase I</td><td>1</td><td>00174-04-008-008</td><td>1130</td><td>925</td><td>0</td><td>0</td><td>2002</td><td>AVG</td><td>C</td><td>1</td><td>1</td><td>None</td><td>0</td><td>NULL</td><td>1</td><td>1</td><td>2</td><td>NULL</td><td>MIDDLE UNIT</td><td>55000</td><td>1500</td><td>53500</td><td>53500</td><td>9</td><td>2011</td><td>Q</td><td>I</td><td>1</td><td>MONTBELLO</td><td>montbello</td><td>other crimes against persons</td><td>2011</td><td>9</td><td>9</td><td>montbello</td></tr><tr><td>1</td><td>41</td><td>1</td><td>NULL</td><td>634</td><td>Trails at Parkfield Lake-Phase I</td><td>1</td><td>00174-04-008-008</td><td>1130</td><td>925</td><td>0</td><td>0</td><td>2002</td><td>AVG</td><td>C</td><td>1</td><td>1</td><td>None</td><td>0</td><td>NULL</td><td>1</td><td>1</td><td>2</td><td>NULL</td><td>MIDDLE UNIT</td><td>55000</td><td>1500</td><td>53500</td><td>53500</td><td>9</td><td>2011</td><td>Q</td><td>I</td><td>1</td><td>MONTBELLO</td><td>montbello</td><td>aggravated assault</td><td>2011</td><td>9</td><td>2</td><td>montbello</td></tr><tr><td>1</td><td>41</td><td>1</td><td>NULL</td><td>634</td><td>Trails at Parkfield Lake-Phase I</td><td>1</td><td>00174-04-008-008</td><td>1130</td><td>925</td><td>0</td><td>0</td><td>2002</td><td>AVG</td><td>C</td><td>1</td><td>1</td><td>None</td><td>0</td><td>NULL</td><td>1</td><td>1</td><td>2</td><td>NULL</td><td>MIDDLE UNIT</td><td>55000</td><td>1500</td><td>53500</td><td>53500</td><td>9</td><td>2011</td><td>Q</td><td>I</td><td>1</td><td>MONTBELLO</td><td>montbello</td><td>all other crimes</td><td>2011</td><td>9</td><td>4</td><td>montbello</td></tr><tr><td>1</td><td>41</td><td>1</td><td>NULL</td><td>634</td><td>Trails at Parkfield Lake-Phase I</td><td>1</td><td>00174-04-008-008</td><td>1130</td><td>925</td><td>0</td><td>0</td><td>2002</td><td>AVG</td><td>C</td><td>1</td><td>1</td><td>None</td><td>0</td><td>NULL</td><td>1</td><td>1</td><td>2</td><td>NULL</td><td>MIDDLE UNIT</td><td>55000</td><td>1500</td><td>53500</td><td>53500</td><td>9</td><td>2011</td><td>Q</td><td>I</td><td>1</td><td>MONTBELLO</td><td>montbello</td><td>drug alcohol</td><td>2011</td><td>9</td><td>5</td><td>montbello</td></tr><tr><td>1</td><td>41</td><td>1</td><td>NULL</td><td>634</td><td>Trails at Parkfield Lake-Phase I</td><td>1</td><td>00174-04-008-008</td><td>1130</td><td>925</td><td>0</td><td>0</td><td>2002</td><td>AVG</td><td>C</td><td>1</td><td>1</td><td>None</td><td>0</td><td>NULL</td><td>1</td><td>1</td><td>2</td><td>NULL</td><td>MIDDLE UNIT</td><td>55000</td><td>1500</td><td>53500</td><td>53500</td><td>9</td><td>2011</td><td>Q</td><td>I</td><td>1</td><td>MONTBELLO</td><td>montbello</td><td>larceny</td><td>2011</td><td>9</td><td>17</td><td>montbello</td></tr><tr><td>1</td><td>41</td><td>1</td><td>NULL</td><td>634</td><td>Trails at Parkfield Lake-Phase I</td><td>1</td><td>00174-04-008-008</td><td>1130</td><td>925</td><td>0</td><td>0</td><td>2002</td><td>AVG</td><td>C</td><td>1</td><td>1</td><td>None</td><td>0</td><td>NULL</td><td>1</td><td>1</td><td>2</td><td>NULL</td><td>MIDDLE UNIT</td><td>55000</td><td>1500</td><td>53500</td><td>53500</td><td>9</td><td>2011</td><td>Q</td><td>I</td><td>1</td><td>MONTBELLO</td><td>montbello</td><td>theft from motor vehicle</td><td>2011</td><td>9</td><td>9</td><td>montbello</td></tr><tr><td>1</td><td>41</td><td>1</td><td>NULL</td><td>634</td><td>Trails at Parkfield Lake-Phase I</td><td>1</td><td>00174-04-008-008</td><td>1130</td><td>925</td><td>0</td><td>0</td><td>2002</td><td>AVG</td><td>C</td><td>1</td><td>1</td><td>None</td><td>0</td><td>NULL</td><td>1</td><td>1</td><td>2</td><td>NULL</td><td>MIDDLE UNIT</td><td>55000</td><td>1500</td><td>53500</td><td>53500</td><td>9</td><td>2011</td><td>Q</td><td>I</td><td>1</td><td>MONTBELLO</td><td>montbello</td><td>robbery</td><td>2011</td><td>9</td><td>6</td><td>montbello</td></tr><tr><td>1</td><td>41</td><td>1</td><td>NULL</td><td>634</td><td>Trails at Parkfield Lake-Phase I</td><td>1</td><td>00174-04-008-008</td><td>1130</td><td>925</td><td>0</td><td>0</td><td>2002</td><td>AVG</td><td>C</td><td>1</td><td>1</td><td>None</td><td>0</td><td>NULL</td><td>1</td><td>1</td><td>2</td><td>NULL</td><td>MIDDLE UNIT</td><td>55000</td><td>1500</td><td>53500</td><td>53500</td><td>9</td><td>2011</td><td>Q</td><td>I</td><td>1</td><td>MONTBELLO</td><td>montbello</td><td>burglary</td><td>2011</td><td>9</td><td>29</td><td>montbello</td></tr><tr><td>1</td><td>41</td><td>1</td><td>NULL</td><td>634</td><td>Trails at Parkfield Lake-Phase I</td><td>1</td><td>00174-04-008-008</td><td>1130</td><td>925</td><td>0</td><td>0</td><td>2002</td><td>AVG</td><td>C</td><td>1</td><td>1</td><td>None</td><td>0</td><td>NULL</td><td>1</td><td>1</td><td>2</td><td>NULL</td><td>MIDDLE UNIT</td><td>55000</td><td>1500</td><td>53500</td><td>53500</td><td>9</td><td>2011</td><td>Q</td><td>I</td><td>1</td><td>MONTBELLO</td><td>montbello</td><td>public disorder</td><td>2011</td><td>9</td><td>20</td><td>montbello</td></tr><tr><td>1</td><td>41</td><td>1</td><td>NULL</td><td>634</td><td>Trails at Parkfield Lake-Phase I</td><td>1</td><td>00174-04-008-008</td><td>1130</td><td>925</td><td>0</td><td>0</td><td>2002</td><td>AVG</td><td>C</td><td>1</td><td>1</td><td>None</td><td>0</td><td>NULL</td><td>1</td><td>1</td><td>2</td><td>NULL</td><td>MIDDLE UNIT</td><td>55000</td><td>1500</td><td>53500</td><td>53500</td><td>9</td><td>2011</td><td>Q</td><td>I</td><td>1</td><td>MONTBELLO</td><td>montbello</td><td>white collar crime</td><td>2011</td><td>9</td><td>7</td><td>montbello</td></tr><tr><td>1</td><td>41</td><td>1</td><td>NULL</td><td>634</td><td>Trails at Parkfield Lake-Phase I</td><td>1</td><td>00174-04-008-008</td><td>1130</td><td>925</td><td>0</td><td>0</td><td>2002</td><td>AVG</td><td>C</td><td>1</td><td>1</td><td>None</td><td>0</td><td>NULL</td><td>1</td><td>1</td><td>2</td><td>NULL</td><td>MIDDLE UNIT</td><td>55000</td><td>1500</td><td>53500</td><td>53500</td><td>9</td><td>2011</td><td>Q</td><td>I</td><td>1</td><td>MONTBELLO</td><td>dia</td><td>white collar crime</td><td>2011</td><td>9</td><td>2</td><td>dia</td></tr><tr><td>1</td><td>41</td><td>1</td><td>NULL</td><td>634</td><td>Trails at Parkfield Lake-Phase I</td><td>1</td><td>00174-04-008-008</td><td>1130</td><td>925</td><td>0</td><td>0</td><td>2002</td><td>AVG</td><td>C</td><td>1</td><td>1</td><td>None</td><td>0</td><td>NULL</td><td>1</td><td>1</td><td>2</td><td>NULL</td><td>MIDDLE UNIT</td><td>55000</td><td>1500</td><td>53500</td><td>53500</td><td>9</td><td>2011</td><td>Q</td><td>I</td><td>1</td><td>MONTBELLO</td><td>dia</td><td>theft from motor vehicle</td><td>2011</td><td>9</td><td>8</td><td>dia</td></tr><tr><td>1</td><td>41</td><td>1</td><td>NULL</td><td>634</td><td>Trails at Parkfield Lake-Phase I</td><td>1</td><td>00174-04-008-008</td><td>1130</td><td>925</td><td>0</td><td>0</td><td>2002</td><td>AVG</td><td>C</td><td>1</td><td>1</td><td>None</td><td>0</td><td>NULL</td><td>1</td><td>1</td><td>2</td><td>NULL</td><td>MIDDLE UNIT</td><td>55000</td><td>1500</td><td>53500</td><td>53500</td><td>9</td><td>2011</td><td>Q</td><td>I</td><td>1</td><td>MONTBELLO</td><td>dia</td><td>larceny</td><td>2011</td><td>9</td><td>9</td><td>dia</td></tr></table>"
                    },
                    "metadata": {}
                }
            ],
            "execution_count": 15
        }
    ]
}