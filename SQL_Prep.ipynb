{
    "metadata": {
        "kernelspec": {
            "name": "SQL",
            "display_name": "SQL",
            "language": "sql"
        },
        "language_info": {
            "name": "sql",
            "version": ""
        }
    },
    "nbformat_minor": 2,
    "nbformat": 4,
    "cells": [
        {
            "cell_type": "code",
            "source": [
                "select top 10 * from INFORMATION_SCHEMA.COLUMNS"
            ],
            "metadata": {
                "azdata_cell_guid": "85bf5185-a266-4a36-a79c-a6f890aa0e77",
                "language": "sql"
            },
            "outputs": [
                {
                    "output_type": "display_data",
                    "data": {
                        "text/html": "(10 rows affected)"
                    },
                    "metadata": {}
                },
                {
                    "output_type": "display_data",
                    "data": {
                        "text/html": "Total execution time: 00:00:00.009"
                    },
                    "metadata": {}
                },
                {
                    "output_type": "execute_result",
                    "execution_count": 2,
                    "data": {
                        "application/vnd.dataresource+json": {
                            "schema": {
                                "fields": [
                                    {
                                        "name": "TABLE_CATALOG"
                                    },
                                    {
                                        "name": "TABLE_SCHEMA"
                                    },
                                    {
                                        "name": "TABLE_NAME"
                                    },
                                    {
                                        "name": "COLUMN_NAME"
                                    },
                                    {
                                        "name": "ORDINAL_POSITION"
                                    },
                                    {
                                        "name": "COLUMN_DEFAULT"
                                    },
                                    {
                                        "name": "IS_NULLABLE"
                                    },
                                    {
                                        "name": "DATA_TYPE"
                                    },
                                    {
                                        "name": "CHARACTER_MAXIMUM_LENGTH"
                                    },
                                    {
                                        "name": "CHARACTER_OCTET_LENGTH"
                                    },
                                    {
                                        "name": "NUMERIC_PRECISION"
                                    },
                                    {
                                        "name": "NUMERIC_PRECISION_RADIX"
                                    },
                                    {
                                        "name": "NUMERIC_SCALE"
                                    },
                                    {
                                        "name": "DATETIME_PRECISION"
                                    },
                                    {
                                        "name": "CHARACTER_SET_CATALOG"
                                    },
                                    {
                                        "name": "CHARACTER_SET_SCHEMA"
                                    },
                                    {
                                        "name": "CHARACTER_SET_NAME"
                                    },
                                    {
                                        "name": "COLLATION_CATALOG"
                                    },
                                    {
                                        "name": "COLLATION_SCHEMA"
                                    },
                                    {
                                        "name": "COLLATION_NAME"
                                    },
                                    {
                                        "name": "DOMAIN_CATALOG"
                                    },
                                    {
                                        "name": "DOMAIN_SCHEMA"
                                    },
                                    {
                                        "name": "DOMAIN_NAME"
                                    }
                                ]
                            },
                            "data": [
                                {
                                    "0": "Denver Crime",
                                    "1": "dbo",
                                    "2": "Land_Transfer",
                                    "3": "PARID",
                                    "4": "1",
                                    "5": "NULL",
                                    "6": "YES",
                                    "7": "nvarchar",
                                    "8": "255",
                                    "9": "510",
                                    "10": "NULL",
                                    "11": "NULL",
                                    "12": "NULL",
                                    "13": "NULL",
                                    "14": "NULL",
                                    "15": "NULL",
                                    "16": "UNICODE",
                                    "17": "NULL",
                                    "18": "NULL",
                                    "19": "SQL_Latin1_General_CP1_CI_AS",
                                    "20": "NULL",
                                    "21": "NULL",
                                    "22": "NULL"
                                },
                                {
                                    "0": "Denver Crime",
                                    "1": "dbo",
                                    "2": "Land_Transfer",
                                    "3": "RECEPTION_NUM",
                                    "4": "2",
                                    "5": "NULL",
                                    "6": "YES",
                                    "7": "nvarchar",
                                    "8": "255",
                                    "9": "510",
                                    "10": "NULL",
                                    "11": "NULL",
                                    "12": "NULL",
                                    "13": "NULL",
                                    "14": "NULL",
                                    "15": "NULL",
                                    "16": "UNICODE",
                                    "17": "NULL",
                                    "18": "NULL",
                                    "19": "SQL_Latin1_General_CP1_CI_AS",
                                    "20": "NULL",
                                    "21": "NULL",
                                    "22": "NULL"
                                },
                                {
                                    "0": "Denver Crime",
                                    "1": "dbo",
                                    "2": "Land_Transfer",
                                    "3": "INSTRUMENT",
                                    "4": "3",
                                    "5": "NULL",
                                    "6": "YES",
                                    "7": "nvarchar",
                                    "8": "255",
                                    "9": "510",
                                    "10": "NULL",
                                    "11": "NULL",
                                    "12": "NULL",
                                    "13": "NULL",
                                    "14": "NULL",
                                    "15": "NULL",
                                    "16": "UNICODE",
                                    "17": "NULL",
                                    "18": "NULL",
                                    "19": "SQL_Latin1_General_CP1_CI_AS",
                                    "20": "NULL",
                                    "21": "NULL",
                                    "22": "NULL"
                                },
                                {
                                    "0": "Denver Crime",
                                    "1": "dbo",
                                    "2": "Land_Transfer",
                                    "3": "SALE_YEAR",
                                    "4": "4",
                                    "5": "NULL",
                                    "6": "YES",
                                    "7": "float",
                                    "8": "NULL",
                                    "9": "NULL",
                                    "10": "53",
                                    "11": "2",
                                    "12": "NULL",
                                    "13": "NULL",
                                    "14": "NULL",
                                    "15": "NULL",
                                    "16": "NULL",
                                    "17": "NULL",
                                    "18": "NULL",
                                    "19": "NULL",
                                    "20": "NULL",
                                    "21": "NULL",
                                    "22": "NULL"
                                },
                                {
                                    "0": "Denver Crime",
                                    "1": "dbo",
                                    "2": "Land_Transfer",
                                    "3": "SALE_MONTHDAY",
                                    "4": "5",
                                    "5": "NULL",
                                    "6": "YES",
                                    "7": "nvarchar",
                                    "8": "255",
                                    "9": "510",
                                    "10": "NULL",
                                    "11": "NULL",
                                    "12": "NULL",
                                    "13": "NULL",
                                    "14": "NULL",
                                    "15": "NULL",
                                    "16": "UNICODE",
                                    "17": "NULL",
                                    "18": "NULL",
                                    "19": "SQL_Latin1_General_CP1_CI_AS",
                                    "20": "NULL",
                                    "21": "NULL",
                                    "22": "NULL"
                                },
                                {
                                    "0": "Denver Crime",
                                    "1": "dbo",
                                    "2": "Land_Transfer",
                                    "3": "RECEPTION_DATE",
                                    "4": "6",
                                    "5": "NULL",
                                    "6": "YES",
                                    "7": "nvarchar",
                                    "8": "255",
                                    "9": "510",
                                    "10": "NULL",
                                    "11": "NULL",
                                    "12": "NULL",
                                    "13": "NULL",
                                    "14": "NULL",
                                    "15": "NULL",
                                    "16": "UNICODE",
                                    "17": "NULL",
                                    "18": "NULL",
                                    "19": "SQL_Latin1_General_CP1_CI_AS",
                                    "20": "NULL",
                                    "21": "NULL",
                                    "22": "NULL"
                                },
                                {
                                    "0": "Denver Crime",
                                    "1": "dbo",
                                    "2": "Land_Transfer",
                                    "3": "SALE_PRICE",
                                    "4": "7",
                                    "5": "NULL",
                                    "6": "YES",
                                    "7": "float",
                                    "8": "NULL",
                                    "9": "NULL",
                                    "10": "53",
                                    "11": "2",
                                    "12": "NULL",
                                    "13": "NULL",
                                    "14": "NULL",
                                    "15": "NULL",
                                    "16": "NULL",
                                    "17": "NULL",
                                    "18": "NULL",
                                    "19": "NULL",
                                    "20": "NULL",
                                    "21": "NULL",
                                    "22": "NULL"
                                },
                                {
                                    "0": "Denver Crime",
                                    "1": "dbo",
                                    "2": "Land_Transfer",
                                    "3": "GRANTOR",
                                    "4": "8",
                                    "5": "NULL",
                                    "6": "YES",
                                    "7": "nvarchar",
                                    "8": "255",
                                    "9": "510",
                                    "10": "NULL",
                                    "11": "NULL",
                                    "12": "NULL",
                                    "13": "NULL",
                                    "14": "NULL",
                                    "15": "NULL",
                                    "16": "UNICODE",
                                    "17": "NULL",
                                    "18": "NULL",
                                    "19": "SQL_Latin1_General_CP1_CI_AS",
                                    "20": "NULL",
                                    "21": "NULL",
                                    "22": "NULL"
                                },
                                {
                                    "0": "Denver Crime",
                                    "1": "dbo",
                                    "2": "Land_Transfer",
                                    "3": "GRANTEE",
                                    "4": "9",
                                    "5": "NULL",
                                    "6": "YES",
                                    "7": "nvarchar",
                                    "8": "255",
                                    "9": "510",
                                    "10": "NULL",
                                    "11": "NULL",
                                    "12": "NULL",
                                    "13": "NULL",
                                    "14": "NULL",
                                    "15": "NULL",
                                    "16": "UNICODE",
                                    "17": "NULL",
                                    "18": "NULL",
                                    "19": "SQL_Latin1_General_CP1_CI_AS",
                                    "20": "NULL",
                                    "21": "NULL",
                                    "22": "NULL"
                                },
                                {
                                    "0": "Denver Crime",
                                    "1": "dbo",
                                    "2": "Land_Transfer",
                                    "3": "CLASS",
                                    "4": "10",
                                    "5": "NULL",
                                    "6": "YES",
                                    "7": "nvarchar",
                                    "8": "255",
                                    "9": "510",
                                    "10": "NULL",
                                    "11": "NULL",
                                    "12": "NULL",
                                    "13": "NULL",
                                    "14": "NULL",
                                    "15": "NULL",
                                    "16": "UNICODE",
                                    "17": "NULL",
                                    "18": "NULL",
                                    "19": "SQL_Latin1_General_CP1_CI_AS",
                                    "20": "NULL",
                                    "21": "NULL",
                                    "22": "NULL"
                                }
                            ]
                        },
                        "text/html": "<table><tr><th>TABLE_CATALOG</th><th>TABLE_SCHEMA</th><th>TABLE_NAME</th><th>COLUMN_NAME</th><th>ORDINAL_POSITION</th><th>COLUMN_DEFAULT</th><th>IS_NULLABLE</th><th>DATA_TYPE</th><th>CHARACTER_MAXIMUM_LENGTH</th><th>CHARACTER_OCTET_LENGTH</th><th>NUMERIC_PRECISION</th><th>NUMERIC_PRECISION_RADIX</th><th>NUMERIC_SCALE</th><th>DATETIME_PRECISION</th><th>CHARACTER_SET_CATALOG</th><th>CHARACTER_SET_SCHEMA</th><th>CHARACTER_SET_NAME</th><th>COLLATION_CATALOG</th><th>COLLATION_SCHEMA</th><th>COLLATION_NAME</th><th>DOMAIN_CATALOG</th><th>DOMAIN_SCHEMA</th><th>DOMAIN_NAME</th></tr><tr><td>Denver Crime</td><td>dbo</td><td>Land_Transfer</td><td>PARID</td><td>1</td><td>NULL</td><td>YES</td><td>nvarchar</td><td>255</td><td>510</td><td>NULL</td><td>NULL</td><td>NULL</td><td>NULL</td><td>NULL</td><td>NULL</td><td>UNICODE</td><td>NULL</td><td>NULL</td><td>SQL_Latin1_General_CP1_CI_AS</td><td>NULL</td><td>NULL</td><td>NULL</td></tr><tr><td>Denver Crime</td><td>dbo</td><td>Land_Transfer</td><td>RECEPTION_NUM</td><td>2</td><td>NULL</td><td>YES</td><td>nvarchar</td><td>255</td><td>510</td><td>NULL</td><td>NULL</td><td>NULL</td><td>NULL</td><td>NULL</td><td>NULL</td><td>UNICODE</td><td>NULL</td><td>NULL</td><td>SQL_Latin1_General_CP1_CI_AS</td><td>NULL</td><td>NULL</td><td>NULL</td></tr><tr><td>Denver Crime</td><td>dbo</td><td>Land_Transfer</td><td>INSTRUMENT</td><td>3</td><td>NULL</td><td>YES</td><td>nvarchar</td><td>255</td><td>510</td><td>NULL</td><td>NULL</td><td>NULL</td><td>NULL</td><td>NULL</td><td>NULL</td><td>UNICODE</td><td>NULL</td><td>NULL</td><td>SQL_Latin1_General_CP1_CI_AS</td><td>NULL</td><td>NULL</td><td>NULL</td></tr><tr><td>Denver Crime</td><td>dbo</td><td>Land_Transfer</td><td>SALE_YEAR</td><td>4</td><td>NULL</td><td>YES</td><td>float</td><td>NULL</td><td>NULL</td><td>53</td><td>2</td><td>NULL</td><td>NULL</td><td>NULL</td><td>NULL</td><td>NULL</td><td>NULL</td><td>NULL</td><td>NULL</td><td>NULL</td><td>NULL</td><td>NULL</td></tr><tr><td>Denver Crime</td><td>dbo</td><td>Land_Transfer</td><td>SALE_MONTHDAY</td><td>5</td><td>NULL</td><td>YES</td><td>nvarchar</td><td>255</td><td>510</td><td>NULL</td><td>NULL</td><td>NULL</td><td>NULL</td><td>NULL</td><td>NULL</td><td>UNICODE</td><td>NULL</td><td>NULL</td><td>SQL_Latin1_General_CP1_CI_AS</td><td>NULL</td><td>NULL</td><td>NULL</td></tr><tr><td>Denver Crime</td><td>dbo</td><td>Land_Transfer</td><td>RECEPTION_DATE</td><td>6</td><td>NULL</td><td>YES</td><td>nvarchar</td><td>255</td><td>510</td><td>NULL</td><td>NULL</td><td>NULL</td><td>NULL</td><td>NULL</td><td>NULL</td><td>UNICODE</td><td>NULL</td><td>NULL</td><td>SQL_Latin1_General_CP1_CI_AS</td><td>NULL</td><td>NULL</td><td>NULL</td></tr><tr><td>Denver Crime</td><td>dbo</td><td>Land_Transfer</td><td>SALE_PRICE</td><td>7</td><td>NULL</td><td>YES</td><td>float</td><td>NULL</td><td>NULL</td><td>53</td><td>2</td><td>NULL</td><td>NULL</td><td>NULL</td><td>NULL</td><td>NULL</td><td>NULL</td><td>NULL</td><td>NULL</td><td>NULL</td><td>NULL</td><td>NULL</td></tr><tr><td>Denver Crime</td><td>dbo</td><td>Land_Transfer</td><td>GRANTOR</td><td>8</td><td>NULL</td><td>YES</td><td>nvarchar</td><td>255</td><td>510</td><td>NULL</td><td>NULL</td><td>NULL</td><td>NULL</td><td>NULL</td><td>NULL</td><td>UNICODE</td><td>NULL</td><td>NULL</td><td>SQL_Latin1_General_CP1_CI_AS</td><td>NULL</td><td>NULL</td><td>NULL</td></tr><tr><td>Denver Crime</td><td>dbo</td><td>Land_Transfer</td><td>GRANTEE</td><td>9</td><td>NULL</td><td>YES</td><td>nvarchar</td><td>255</td><td>510</td><td>NULL</td><td>NULL</td><td>NULL</td><td>NULL</td><td>NULL</td><td>NULL</td><td>UNICODE</td><td>NULL</td><td>NULL</td><td>SQL_Latin1_General_CP1_CI_AS</td><td>NULL</td><td>NULL</td><td>NULL</td></tr><tr><td>Denver Crime</td><td>dbo</td><td>Land_Transfer</td><td>CLASS</td><td>10</td><td>NULL</td><td>YES</td><td>nvarchar</td><td>255</td><td>510</td><td>NULL</td><td>NULL</td><td>NULL</td><td>NULL</td><td>NULL</td><td>NULL</td><td>UNICODE</td><td>NULL</td><td>NULL</td><td>SQL_Latin1_General_CP1_CI_AS</td><td>NULL</td><td>NULL</td><td>NULL</td></tr></table>"
                    },
                    "metadata": {}
                }
            ],
            "execution_count": 2
        },
        {
            "cell_type": "code",
            "source": [
                "-- Aggregate Crime dataset for the studied period (2010 - 2013)\r\n",
                "WITH Crime_Data \r\n",
                "AS \r\n",
                "(\r\n",
                "SELECT REPLACE(OFFENSE_CATEGORY_ID, '-', ' ') as OFFENSE_CATEGORY,\r\n",
                "COUNT(*) as Count,\r\n",
                "CONVERT(date, REPORTED_DATE) as REPORTED_DATE,\r\n",
                "YEAR(REPORTED_DATE) as Year,\r\n",
                "MONTH(REPORTED_DATE) as Month,\r\n",
                "REPLACE(NEIGHBORHOOD_ID, '-', ' ') as NBHD_Name_Crime\r\n",
                "FROM crime2010\r\n",
                "GROUP BY REPLACE(OFFENSE_CATEGORY_ID, '-', ' '), CONVERT(date, REPORTED_DATE), YEAR(REPORTED_DATE), MONTH(REPORTED_DATE), REPLACE(NEIGHBORHOOD_ID, '-', ' ')\r\n",
                "\r\n",
                "UNION ALL\r\n",
                "\r\n",
                "SELECT REPLACE(OFFENSE_CATEGORY_ID, '-', ' ') as OFFENSE_CATEGORY,\r\n",
                "COUNT(*) as Count,\r\n",
                "CONVERT(date, REPORTED_DATE) as REPORTED_DATE,\r\n",
                "YEAR(REPORTED_DATE) as Year,\r\n",
                "MONTH(REPORTED_DATE) as Month,\r\n",
                "REPLACE(NEIGHBORHOOD_ID, '-', ' ') as NBHD_Name_Crime\r\n",
                "FROM crime2011\r\n",
                "GROUP BY REPLACE(OFFENSE_CATEGORY_ID, '-', ' '), CONVERT(date, REPORTED_DATE), YEAR(REPORTED_DATE), MONTH(REPORTED_DATE), REPLACE(NEIGHBORHOOD_ID, '-', ' ')\r\n",
                "\r\n",
                "UNION ALL\r\n",
                "\r\n",
                "SELECT REPLACE(OFFENSE_CATEGORY_ID, '-', ' ') as OFFENSE_CATEGORY,\r\n",
                "COUNT(*) as Count,\r\n",
                "CONVERT(date, REPORTED_DATE) as REPORTED_DATE,\r\n",
                "YEAR(REPORTED_DATE) as Year,\r\n",
                "MONTH(REPORTED_DATE) as Month,\r\n",
                "REPLACE(NEIGHBORHOOD_ID, '-', ' ') as NBHD_Name_Crime\r\n",
                "FROM crime2012\r\n",
                "GROUP BY REPLACE(OFFENSE_CATEGORY_ID, '-', ' '), CONVERT(date, REPORTED_DATE), YEAR(REPORTED_DATE), MONTH(REPORTED_DATE), REPLACE(NEIGHBORHOOD_ID, '-', ' ')\r\n",
                ")\r\n",
                "\r\n",
                "SELECT OFFENSE_CATEGORY, Year, Month, SUM(Count) as Count, NBHD_Name_Crime\r\n",
                "INTO Crime_Data\r\n",
                "FROM Crime_Data\r\n",
                "WHERE REPORTED_DATE < '2013-01-01'\r\n",
                "GROUP BY OFFENSE_CATEGORY, Year, Month, NBHD_Name_Crime\r\n",
                "ORDER BY Year, Month"
            ],
            "metadata": {
                "azdata_cell_guid": "9294d4d6-efb3-47e6-a674-a1377d35e40f",
                "language": "sql"
            },
            "outputs": [
                {
                    "output_type": "error",
                    "ename": "",
                    "evalue": "Msg 2714, Level 16, State 6, Line 2\r\nThere is already an object named 'Crime_Data' in the database.",
                    "traceback": []
                },
                {
                    "output_type": "display_data",
                    "data": {
                        "text/html": "Total execution time: 00:00:00.016"
                    },
                    "metadata": {}
                }
            ],
            "execution_count": 3
        },
        {
            "cell_type": "code",
            "source": [
                "SELECT top 10 *\r\n",
                "FROM Crime_Data\r\n",
                ""
            ],
            "metadata": {
                "language": "sql",
                "azdata_cell_guid": "19499490-66e5-4837-b86e-5cc3bbf8c6cd"
            },
            "outputs": [
                {
                    "output_type": "display_data",
                    "data": {
                        "text/html": "(10 rows affected)"
                    },
                    "metadata": {}
                },
                {
                    "output_type": "display_data",
                    "data": {
                        "text/html": "Total execution time: 00:00:00.001"
                    },
                    "metadata": {}
                },
                {
                    "output_type": "execute_result",
                    "execution_count": 6,
                    "data": {
                        "application/vnd.dataresource+json": {
                            "schema": {
                                "fields": [
                                    {
                                        "name": "OFFENSE_CATEGORY"
                                    },
                                    {
                                        "name": "Year"
                                    },
                                    {
                                        "name": "Month"
                                    },
                                    {
                                        "name": "Count"
                                    },
                                    {
                                        "name": "NBHD_Name_Crime"
                                    }
                                ]
                            },
                            "data": [
                                {
                                    "0": "theft from motor vehicle",
                                    "1": "2010",
                                    "2": "9",
                                    "3": "2",
                                    "4": "regis"
                                },
                                {
                                    "0": "public disorder",
                                    "1": "2011",
                                    "2": "11",
                                    "3": "14",
                                    "4": "montbello"
                                },
                                {
                                    "0": "auto theft",
                                    "1": "2012",
                                    "2": "3",
                                    "3": "8",
                                    "4": "highland"
                                },
                                {
                                    "0": "auto theft",
                                    "1": "2011",
                                    "2": "4",
                                    "3": "3",
                                    "4": "mar lee"
                                },
                                {
                                    "0": "drug alcohol",
                                    "1": "2011",
                                    "2": "5",
                                    "3": "2",
                                    "4": "north capitol hill"
                                },
                                {
                                    "0": "white collar crime",
                                    "1": "2011",
                                    "2": "4",
                                    "3": "1",
                                    "4": "hampden south"
                                },
                                {
                                    "0": "burglary",
                                    "1": "2011",
                                    "2": "11",
                                    "3": "5",
                                    "4": "lincoln park"
                                },
                                {
                                    "0": "theft from motor vehicle",
                                    "1": "2011",
                                    "2": "10",
                                    "3": "2",
                                    "4": "skyland"
                                },
                                {
                                    "0": "white collar crime",
                                    "1": "2012",
                                    "2": "8",
                                    "3": "3",
                                    "4": "north capitol hill"
                                },
                                {
                                    "0": "drug alcohol",
                                    "1": "2010",
                                    "2": "5",
                                    "3": "2",
                                    "4": "gateway green valley ranch"
                                }
                            ]
                        },
                        "text/html": "<table><tr><th>OFFENSE_CATEGORY</th><th>Year</th><th>Month</th><th>Count</th><th>NBHD_Name_Crime</th></tr><tr><td>theft from motor vehicle</td><td>2010</td><td>9</td><td>2</td><td>regis</td></tr><tr><td>public disorder</td><td>2011</td><td>11</td><td>14</td><td>montbello</td></tr><tr><td>auto theft</td><td>2012</td><td>3</td><td>8</td><td>highland</td></tr><tr><td>auto theft</td><td>2011</td><td>4</td><td>3</td><td>mar lee</td></tr><tr><td>drug alcohol</td><td>2011</td><td>5</td><td>2</td><td>north capitol hill</td></tr><tr><td>white collar crime</td><td>2011</td><td>4</td><td>1</td><td>hampden south</td></tr><tr><td>burglary</td><td>2011</td><td>11</td><td>5</td><td>lincoln park</td></tr><tr><td>theft from motor vehicle</td><td>2011</td><td>10</td><td>2</td><td>skyland</td></tr><tr><td>white collar crime</td><td>2012</td><td>8</td><td>3</td><td>north capitol hill</td></tr><tr><td>drug alcohol</td><td>2010</td><td>5</td><td>2</td><td>gateway green valley ranch</td></tr></table>"
                    },
                    "metadata": {}
                }
            ],
            "execution_count": 6
        },
        {
            "cell_type": "code",
            "source": [
                "-- Aggregate crime neighborhood names across the studied period and join them to land trasfer dataset on neighborhood name\r\n",
                "SELECT distinct top 10 L.NBHD_1 as NBHD_No, L.NBHD_1_CN AS NBHD_Name_Sales, C.NBHD_Name_Crime\r\n",
                "FROM Crime_Data C\r\n",
                "Full Join Land_Transfer L on L.NBHD_1_CN = C.NBHD_Name_Crime\r\n",
                "order by NBHD_No"
            ],
            "metadata": {
                "language": "sql",
                "azdata_cell_guid": "8df18d37-a3ac-4dc3-a977-d41b5df36490"
            },
            "outputs": [
                {
                    "output_type": "display_data",
                    "data": {
                        "text/html": "(10 rows affected)"
                    },
                    "metadata": {}
                },
                {
                    "output_type": "display_data",
                    "data": {
                        "text/html": "Total execution time: 00:00:01.289"
                    },
                    "metadata": {}
                },
                {
                    "output_type": "execute_result",
                    "execution_count": 4,
                    "data": {
                        "application/vnd.dataresource+json": {
                            "schema": {
                                "fields": [
                                    {
                                        "name": "NBHD_No"
                                    },
                                    {
                                        "name": "NBHD_Name_Sales"
                                    },
                                    {
                                        "name": "NBHD_Name_Crime"
                                    }
                                ]
                            },
                            "data": [
                                {
                                    "0": "NULL",
                                    "1": "NULL",
                                    "2": "NULL"
                                },
                                {
                                    "0": "NULL",
                                    "1": "NULL",
                                    "2": "barnum west"
                                },
                                {
                                    "0": "NULL",
                                    "1": "NULL",
                                    "2": "city park"
                                },
                                {
                                    "0": "NULL",
                                    "1": "NULL",
                                    "2": "city park west"
                                },
                                {
                                    "0": "NULL",
                                    "1": "NULL",
                                    "2": "college view south platte"
                                },
                                {
                                    "0": "NULL",
                                    "1": "NULL",
                                    "2": "dia"
                                },
                                {
                                    "0": "NULL",
                                    "1": "NULL",
                                    "2": "east colfax"
                                },
                                {
                                    "0": "NULL",
                                    "1": "NULL",
                                    "2": "elyria swansea"
                                },
                                {
                                    "0": "NULL",
                                    "1": "NULL",
                                    "2": "gateway green valley ranch"
                                },
                                {
                                    "0": "NULL",
                                    "1": "NULL",
                                    "2": "hale"
                                }
                            ]
                        },
                        "text/html": "<table><tr><th>NBHD_No</th><th>NBHD_Name_Sales</th><th>NBHD_Name_Crime</th></tr><tr><td>NULL</td><td>NULL</td><td>NULL</td></tr><tr><td>NULL</td><td>NULL</td><td>barnum west</td></tr><tr><td>NULL</td><td>NULL</td><td>city park</td></tr><tr><td>NULL</td><td>NULL</td><td>city park west</td></tr><tr><td>NULL</td><td>NULL</td><td>college view south platte</td></tr><tr><td>NULL</td><td>NULL</td><td>dia</td></tr><tr><td>NULL</td><td>NULL</td><td>east colfax</td></tr><tr><td>NULL</td><td>NULL</td><td>elyria swansea</td></tr><tr><td>NULL</td><td>NULL</td><td>gateway green valley ranch</td></tr><tr><td>NULL</td><td>NULL</td><td>hale</td></tr></table>"
                    },
                    "metadata": {}
                }
            ],
            "execution_count": 4
        },
        {
            "cell_type": "code",
            "source": [
                "-- the output is inspected in Excel to match the remaining neighborhood names to produce Neighborhood Mapping Key\r\n",
                "\r\n",
                "\r\n",
                "-- Join Real Estate Sales data on Crime data using the Neighborhood Mapping Key on Neighborhood ID & Name and on month and year\r\n",
                "SELECT top 10 *\r\n",
                "FROM (SELECT ROW_NUMBER() OVER (ORDER BY NBHD) AS SN, * FROM SalesBook) S\r\n",
                "Left join Neighborhood_Mapping M on S.NBHD = CAST(M.NBHD_No AS float)\r\n",
                "Inner join Crime_Data C on M.NBHD_Name_Crime = C.NBHD_Name_Crime\r\n",
                "\tand S.SMONTH = C.Month\r\n",
                "\tand S.SYEAR = C.Year\r\n",
                "ORDER by SN"
            ],
            "metadata": {
                "language": "sql",
                "azdata_cell_guid": "42b32368-13de-492b-bf24-4c18f826f5e4"
            },
            "outputs": [
                {
                    "output_type": "display_data",
                    "data": {
                        "text/html": "(10 rows affected)"
                    },
                    "metadata": {}
                },
                {
                    "output_type": "display_data",
                    "data": {
                        "text/html": "Total execution time: 00:00:00.041"
                    },
                    "metadata": {}
                },
                {
                    "output_type": "execute_result",
                    "execution_count": 5,
                    "data": {
                        "application/vnd.dataresource+json": {
                            "schema": {
                                "fields": [
                                    {
                                        "name": "SN"
                                    },
                                    {
                                        "name": "Model"
                                    },
                                    {
                                        "name": "Cluster"
                                    },
                                    {
                                        "name": "Group"
                                    },
                                    {
                                        "name": "CondoComplex"
                                    },
                                    {
                                        "name": "CondoComplexName"
                                    },
                                    {
                                        "name": "NBHD"
                                    },
                                    {
                                        "name": "PARCEL"
                                    },
                                    {
                                        "name": "ABSTRPRD"
                                    },
                                    {
                                        "name": "LIVEAREA"
                                    },
                                    {
                                        "name": "FINBSMNT"
                                    },
                                    {
                                        "name": "BASEMENT"
                                    },
                                    {
                                        "name": "YRBUILT"
                                    },
                                    {
                                        "name": "CONDITION"
                                    },
                                    {
                                        "name": "QUALITY"
                                    },
                                    {
                                        "name": "TOTUNITS"
                                    },
                                    {
                                        "name": "STORIES"
                                    },
                                    {
                                        "name": "GARTYPE"
                                    },
                                    {
                                        "name": "NOCARS"
                                    },
                                    {
                                        "name": "XTRAFFIC"
                                    },
                                    {
                                        "name": "FLOORLVL"
                                    },
                                    {
                                        "name": "NUMBDRM"
                                    },
                                    {
                                        "name": "NUMBATHS"
                                    },
                                    {
                                        "name": "COMMUSE"
                                    },
                                    {
                                        "name": "ARCSTYLE"
                                    },
                                    {
                                        "name": "SPRICE"
                                    },
                                    {
                                        "name": "DEDUCT"
                                    },
                                    {
                                        "name": "NETPRICE"
                                    },
                                    {
                                        "name": "TASP"
                                    },
                                    {
                                        "name": "SMONTH"
                                    },
                                    {
                                        "name": "SYEAR"
                                    },
                                    {
                                        "name": "QUALIFIED"
                                    },
                                    {
                                        "name": "STATUS"
                                    },
                                    {
                                        "name": "NBHD_No"
                                    },
                                    {
                                        "name": "NBHD_Name_Sales"
                                    },
                                    {
                                        "name": "NBHD_Name_Crime"
                                    },
                                    {
                                        "name": "OFFENSE_CATEGORY"
                                    },
                                    {
                                        "name": "Year"
                                    },
                                    {
                                        "name": "Month"
                                    },
                                    {
                                        "name": "Count"
                                    },
                                    {
                                        "name": "NBHD_Name_Crime"
                                    }
                                ]
                            },
                            "data": [
                                {
                                    "0": "1",
                                    "1": "41",
                                    "2": "1",
                                    "3": "NULL",
                                    "4": "634",
                                    "5": "Trails at Parkfield Lake-Phase I",
                                    "6": "1",
                                    "7": "00174-04-008-008",
                                    "8": "1130",
                                    "9": "925",
                                    "10": "0",
                                    "11": "0",
                                    "12": "2002",
                                    "13": "AVG",
                                    "14": "C",
                                    "15": "1",
                                    "16": "1",
                                    "17": "None",
                                    "18": "0",
                                    "19": "NULL",
                                    "20": "1",
                                    "21": "1",
                                    "22": "2",
                                    "23": "NULL",
                                    "24": "MIDDLE UNIT",
                                    "25": "55000",
                                    "26": "1500",
                                    "27": "53500",
                                    "28": "53500",
                                    "29": "9",
                                    "30": "2011",
                                    "31": "Q",
                                    "32": "I",
                                    "33": "1",
                                    "34": "MONTBELLO",
                                    "35": "montbello",
                                    "36": "auto theft",
                                    "37": "2011",
                                    "38": "9",
                                    "39": "5",
                                    "40": "montbello"
                                },
                                {
                                    "0": "1",
                                    "1": "41",
                                    "2": "1",
                                    "3": "NULL",
                                    "4": "634",
                                    "5": "Trails at Parkfield Lake-Phase I",
                                    "6": "1",
                                    "7": "00174-04-008-008",
                                    "8": "1130",
                                    "9": "925",
                                    "10": "0",
                                    "11": "0",
                                    "12": "2002",
                                    "13": "AVG",
                                    "14": "C",
                                    "15": "1",
                                    "16": "1",
                                    "17": "None",
                                    "18": "0",
                                    "19": "NULL",
                                    "20": "1",
                                    "21": "1",
                                    "22": "2",
                                    "23": "NULL",
                                    "24": "MIDDLE UNIT",
                                    "25": "55000",
                                    "26": "1500",
                                    "27": "53500",
                                    "28": "53500",
                                    "29": "9",
                                    "30": "2011",
                                    "31": "Q",
                                    "32": "I",
                                    "33": "1",
                                    "34": "MONTBELLO",
                                    "35": "montbello",
                                    "36": "sexual assault",
                                    "37": "2011",
                                    "38": "9",
                                    "39": "3",
                                    "40": "montbello"
                                },
                                {
                                    "0": "1",
                                    "1": "41",
                                    "2": "1",
                                    "3": "NULL",
                                    "4": "634",
                                    "5": "Trails at Parkfield Lake-Phase I",
                                    "6": "1",
                                    "7": "00174-04-008-008",
                                    "8": "1130",
                                    "9": "925",
                                    "10": "0",
                                    "11": "0",
                                    "12": "2002",
                                    "13": "AVG",
                                    "14": "C",
                                    "15": "1",
                                    "16": "1",
                                    "17": "None",
                                    "18": "0",
                                    "19": "NULL",
                                    "20": "1",
                                    "21": "1",
                                    "22": "2",
                                    "23": "NULL",
                                    "24": "MIDDLE UNIT",
                                    "25": "55000",
                                    "26": "1500",
                                    "27": "53500",
                                    "28": "53500",
                                    "29": "9",
                                    "30": "2011",
                                    "31": "Q",
                                    "32": "I",
                                    "33": "1",
                                    "34": "MONTBELLO",
                                    "35": "montbello",
                                    "36": "other crimes against persons",
                                    "37": "2011",
                                    "38": "9",
                                    "39": "9",
                                    "40": "montbello"
                                },
                                {
                                    "0": "1",
                                    "1": "41",
                                    "2": "1",
                                    "3": "NULL",
                                    "4": "634",
                                    "5": "Trails at Parkfield Lake-Phase I",
                                    "6": "1",
                                    "7": "00174-04-008-008",
                                    "8": "1130",
                                    "9": "925",
                                    "10": "0",
                                    "11": "0",
                                    "12": "2002",
                                    "13": "AVG",
                                    "14": "C",
                                    "15": "1",
                                    "16": "1",
                                    "17": "None",
                                    "18": "0",
                                    "19": "NULL",
                                    "20": "1",
                                    "21": "1",
                                    "22": "2",
                                    "23": "NULL",
                                    "24": "MIDDLE UNIT",
                                    "25": "55000",
                                    "26": "1500",
                                    "27": "53500",
                                    "28": "53500",
                                    "29": "9",
                                    "30": "2011",
                                    "31": "Q",
                                    "32": "I",
                                    "33": "1",
                                    "34": "MONTBELLO",
                                    "35": "montbello",
                                    "36": "aggravated assault",
                                    "37": "2011",
                                    "38": "9",
                                    "39": "2",
                                    "40": "montbello"
                                },
                                {
                                    "0": "1",
                                    "1": "41",
                                    "2": "1",
                                    "3": "NULL",
                                    "4": "634",
                                    "5": "Trails at Parkfield Lake-Phase I",
                                    "6": "1",
                                    "7": "00174-04-008-008",
                                    "8": "1130",
                                    "9": "925",
                                    "10": "0",
                                    "11": "0",
                                    "12": "2002",
                                    "13": "AVG",
                                    "14": "C",
                                    "15": "1",
                                    "16": "1",
                                    "17": "None",
                                    "18": "0",
                                    "19": "NULL",
                                    "20": "1",
                                    "21": "1",
                                    "22": "2",
                                    "23": "NULL",
                                    "24": "MIDDLE UNIT",
                                    "25": "55000",
                                    "26": "1500",
                                    "27": "53500",
                                    "28": "53500",
                                    "29": "9",
                                    "30": "2011",
                                    "31": "Q",
                                    "32": "I",
                                    "33": "1",
                                    "34": "MONTBELLO",
                                    "35": "montbello",
                                    "36": "all other crimes",
                                    "37": "2011",
                                    "38": "9",
                                    "39": "4",
                                    "40": "montbello"
                                },
                                {
                                    "0": "1",
                                    "1": "41",
                                    "2": "1",
                                    "3": "NULL",
                                    "4": "634",
                                    "5": "Trails at Parkfield Lake-Phase I",
                                    "6": "1",
                                    "7": "00174-04-008-008",
                                    "8": "1130",
                                    "9": "925",
                                    "10": "0",
                                    "11": "0",
                                    "12": "2002",
                                    "13": "AVG",
                                    "14": "C",
                                    "15": "1",
                                    "16": "1",
                                    "17": "None",
                                    "18": "0",
                                    "19": "NULL",
                                    "20": "1",
                                    "21": "1",
                                    "22": "2",
                                    "23": "NULL",
                                    "24": "MIDDLE UNIT",
                                    "25": "55000",
                                    "26": "1500",
                                    "27": "53500",
                                    "28": "53500",
                                    "29": "9",
                                    "30": "2011",
                                    "31": "Q",
                                    "32": "I",
                                    "33": "1",
                                    "34": "MONTBELLO",
                                    "35": "montbello",
                                    "36": "drug alcohol",
                                    "37": "2011",
                                    "38": "9",
                                    "39": "5",
                                    "40": "montbello"
                                },
                                {
                                    "0": "1",
                                    "1": "41",
                                    "2": "1",
                                    "3": "NULL",
                                    "4": "634",
                                    "5": "Trails at Parkfield Lake-Phase I",
                                    "6": "1",
                                    "7": "00174-04-008-008",
                                    "8": "1130",
                                    "9": "925",
                                    "10": "0",
                                    "11": "0",
                                    "12": "2002",
                                    "13": "AVG",
                                    "14": "C",
                                    "15": "1",
                                    "16": "1",
                                    "17": "None",
                                    "18": "0",
                                    "19": "NULL",
                                    "20": "1",
                                    "21": "1",
                                    "22": "2",
                                    "23": "NULL",
                                    "24": "MIDDLE UNIT",
                                    "25": "55000",
                                    "26": "1500",
                                    "27": "53500",
                                    "28": "53500",
                                    "29": "9",
                                    "30": "2011",
                                    "31": "Q",
                                    "32": "I",
                                    "33": "1",
                                    "34": "MONTBELLO",
                                    "35": "montbello",
                                    "36": "larceny",
                                    "37": "2011",
                                    "38": "9",
                                    "39": "17",
                                    "40": "montbello"
                                },
                                {
                                    "0": "1",
                                    "1": "41",
                                    "2": "1",
                                    "3": "NULL",
                                    "4": "634",
                                    "5": "Trails at Parkfield Lake-Phase I",
                                    "6": "1",
                                    "7": "00174-04-008-008",
                                    "8": "1130",
                                    "9": "925",
                                    "10": "0",
                                    "11": "0",
                                    "12": "2002",
                                    "13": "AVG",
                                    "14": "C",
                                    "15": "1",
                                    "16": "1",
                                    "17": "None",
                                    "18": "0",
                                    "19": "NULL",
                                    "20": "1",
                                    "21": "1",
                                    "22": "2",
                                    "23": "NULL",
                                    "24": "MIDDLE UNIT",
                                    "25": "55000",
                                    "26": "1500",
                                    "27": "53500",
                                    "28": "53500",
                                    "29": "9",
                                    "30": "2011",
                                    "31": "Q",
                                    "32": "I",
                                    "33": "1",
                                    "34": "MONTBELLO",
                                    "35": "montbello",
                                    "36": "theft from motor vehicle",
                                    "37": "2011",
                                    "38": "9",
                                    "39": "9",
                                    "40": "montbello"
                                },
                                {
                                    "0": "1",
                                    "1": "41",
                                    "2": "1",
                                    "3": "NULL",
                                    "4": "634",
                                    "5": "Trails at Parkfield Lake-Phase I",
                                    "6": "1",
                                    "7": "00174-04-008-008",
                                    "8": "1130",
                                    "9": "925",
                                    "10": "0",
                                    "11": "0",
                                    "12": "2002",
                                    "13": "AVG",
                                    "14": "C",
                                    "15": "1",
                                    "16": "1",
                                    "17": "None",
                                    "18": "0",
                                    "19": "NULL",
                                    "20": "1",
                                    "21": "1",
                                    "22": "2",
                                    "23": "NULL",
                                    "24": "MIDDLE UNIT",
                                    "25": "55000",
                                    "26": "1500",
                                    "27": "53500",
                                    "28": "53500",
                                    "29": "9",
                                    "30": "2011",
                                    "31": "Q",
                                    "32": "I",
                                    "33": "1",
                                    "34": "MONTBELLO",
                                    "35": "montbello",
                                    "36": "robbery",
                                    "37": "2011",
                                    "38": "9",
                                    "39": "6",
                                    "40": "montbello"
                                },
                                {
                                    "0": "1",
                                    "1": "41",
                                    "2": "1",
                                    "3": "NULL",
                                    "4": "634",
                                    "5": "Trails at Parkfield Lake-Phase I",
                                    "6": "1",
                                    "7": "00174-04-008-008",
                                    "8": "1130",
                                    "9": "925",
                                    "10": "0",
                                    "11": "0",
                                    "12": "2002",
                                    "13": "AVG",
                                    "14": "C",
                                    "15": "1",
                                    "16": "1",
                                    "17": "None",
                                    "18": "0",
                                    "19": "NULL",
                                    "20": "1",
                                    "21": "1",
                                    "22": "2",
                                    "23": "NULL",
                                    "24": "MIDDLE UNIT",
                                    "25": "55000",
                                    "26": "1500",
                                    "27": "53500",
                                    "28": "53500",
                                    "29": "9",
                                    "30": "2011",
                                    "31": "Q",
                                    "32": "I",
                                    "33": "1",
                                    "34": "MONTBELLO",
                                    "35": "montbello",
                                    "36": "burglary",
                                    "37": "2011",
                                    "38": "9",
                                    "39": "29",
                                    "40": "montbello"
                                }
                            ]
                        },
                        "text/html": "<table><tr><th>SN</th><th>Model</th><th>Cluster</th><th>Group</th><th>CondoComplex</th><th>CondoComplexName</th><th>NBHD</th><th>PARCEL</th><th>ABSTRPRD</th><th>LIVEAREA</th><th>FINBSMNT</th><th>BASEMENT</th><th>YRBUILT</th><th>CONDITION</th><th>QUALITY</th><th>TOTUNITS</th><th>STORIES</th><th>GARTYPE</th><th>NOCARS</th><th>XTRAFFIC</th><th>FLOORLVL</th><th>NUMBDRM</th><th>NUMBATHS</th><th>COMMUSE</th><th>ARCSTYLE</th><th>SPRICE</th><th>DEDUCT</th><th>NETPRICE</th><th>TASP</th><th>SMONTH</th><th>SYEAR</th><th>QUALIFIED</th><th>STATUS</th><th>NBHD_No</th><th>NBHD_Name_Sales</th><th>NBHD_Name_Crime</th><th>OFFENSE_CATEGORY</th><th>Year</th><th>Month</th><th>Count</th><th>NBHD_Name_Crime</th></tr><tr><td>1</td><td>41</td><td>1</td><td>NULL</td><td>634</td><td>Trails at Parkfield Lake-Phase I</td><td>1</td><td>00174-04-008-008</td><td>1130</td><td>925</td><td>0</td><td>0</td><td>2002</td><td>AVG</td><td>C</td><td>1</td><td>1</td><td>None</td><td>0</td><td>NULL</td><td>1</td><td>1</td><td>2</td><td>NULL</td><td>MIDDLE UNIT</td><td>55000</td><td>1500</td><td>53500</td><td>53500</td><td>9</td><td>2011</td><td>Q</td><td>I</td><td>1</td><td>MONTBELLO</td><td>montbello</td><td>auto theft</td><td>2011</td><td>9</td><td>5</td><td>montbello</td></tr><tr><td>1</td><td>41</td><td>1</td><td>NULL</td><td>634</td><td>Trails at Parkfield Lake-Phase I</td><td>1</td><td>00174-04-008-008</td><td>1130</td><td>925</td><td>0</td><td>0</td><td>2002</td><td>AVG</td><td>C</td><td>1</td><td>1</td><td>None</td><td>0</td><td>NULL</td><td>1</td><td>1</td><td>2</td><td>NULL</td><td>MIDDLE UNIT</td><td>55000</td><td>1500</td><td>53500</td><td>53500</td><td>9</td><td>2011</td><td>Q</td><td>I</td><td>1</td><td>MONTBELLO</td><td>montbello</td><td>sexual assault</td><td>2011</td><td>9</td><td>3</td><td>montbello</td></tr><tr><td>1</td><td>41</td><td>1</td><td>NULL</td><td>634</td><td>Trails at Parkfield Lake-Phase I</td><td>1</td><td>00174-04-008-008</td><td>1130</td><td>925</td><td>0</td><td>0</td><td>2002</td><td>AVG</td><td>C</td><td>1</td><td>1</td><td>None</td><td>0</td><td>NULL</td><td>1</td><td>1</td><td>2</td><td>NULL</td><td>MIDDLE UNIT</td><td>55000</td><td>1500</td><td>53500</td><td>53500</td><td>9</td><td>2011</td><td>Q</td><td>I</td><td>1</td><td>MONTBELLO</td><td>montbello</td><td>other crimes against persons</td><td>2011</td><td>9</td><td>9</td><td>montbello</td></tr><tr><td>1</td><td>41</td><td>1</td><td>NULL</td><td>634</td><td>Trails at Parkfield Lake-Phase I</td><td>1</td><td>00174-04-008-008</td><td>1130</td><td>925</td><td>0</td><td>0</td><td>2002</td><td>AVG</td><td>C</td><td>1</td><td>1</td><td>None</td><td>0</td><td>NULL</td><td>1</td><td>1</td><td>2</td><td>NULL</td><td>MIDDLE UNIT</td><td>55000</td><td>1500</td><td>53500</td><td>53500</td><td>9</td><td>2011</td><td>Q</td><td>I</td><td>1</td><td>MONTBELLO</td><td>montbello</td><td>aggravated assault</td><td>2011</td><td>9</td><td>2</td><td>montbello</td></tr><tr><td>1</td><td>41</td><td>1</td><td>NULL</td><td>634</td><td>Trails at Parkfield Lake-Phase I</td><td>1</td><td>00174-04-008-008</td><td>1130</td><td>925</td><td>0</td><td>0</td><td>2002</td><td>AVG</td><td>C</td><td>1</td><td>1</td><td>None</td><td>0</td><td>NULL</td><td>1</td><td>1</td><td>2</td><td>NULL</td><td>MIDDLE UNIT</td><td>55000</td><td>1500</td><td>53500</td><td>53500</td><td>9</td><td>2011</td><td>Q</td><td>I</td><td>1</td><td>MONTBELLO</td><td>montbello</td><td>all other crimes</td><td>2011</td><td>9</td><td>4</td><td>montbello</td></tr><tr><td>1</td><td>41</td><td>1</td><td>NULL</td><td>634</td><td>Trails at Parkfield Lake-Phase I</td><td>1</td><td>00174-04-008-008</td><td>1130</td><td>925</td><td>0</td><td>0</td><td>2002</td><td>AVG</td><td>C</td><td>1</td><td>1</td><td>None</td><td>0</td><td>NULL</td><td>1</td><td>1</td><td>2</td><td>NULL</td><td>MIDDLE UNIT</td><td>55000</td><td>1500</td><td>53500</td><td>53500</td><td>9</td><td>2011</td><td>Q</td><td>I</td><td>1</td><td>MONTBELLO</td><td>montbello</td><td>drug alcohol</td><td>2011</td><td>9</td><td>5</td><td>montbello</td></tr><tr><td>1</td><td>41</td><td>1</td><td>NULL</td><td>634</td><td>Trails at Parkfield Lake-Phase I</td><td>1</td><td>00174-04-008-008</td><td>1130</td><td>925</td><td>0</td><td>0</td><td>2002</td><td>AVG</td><td>C</td><td>1</td><td>1</td><td>None</td><td>0</td><td>NULL</td><td>1</td><td>1</td><td>2</td><td>NULL</td><td>MIDDLE UNIT</td><td>55000</td><td>1500</td><td>53500</td><td>53500</td><td>9</td><td>2011</td><td>Q</td><td>I</td><td>1</td><td>MONTBELLO</td><td>montbello</td><td>larceny</td><td>2011</td><td>9</td><td>17</td><td>montbello</td></tr><tr><td>1</td><td>41</td><td>1</td><td>NULL</td><td>634</td><td>Trails at Parkfield Lake-Phase I</td><td>1</td><td>00174-04-008-008</td><td>1130</td><td>925</td><td>0</td><td>0</td><td>2002</td><td>AVG</td><td>C</td><td>1</td><td>1</td><td>None</td><td>0</td><td>NULL</td><td>1</td><td>1</td><td>2</td><td>NULL</td><td>MIDDLE UNIT</td><td>55000</td><td>1500</td><td>53500</td><td>53500</td><td>9</td><td>2011</td><td>Q</td><td>I</td><td>1</td><td>MONTBELLO</td><td>montbello</td><td>theft from motor vehicle</td><td>2011</td><td>9</td><td>9</td><td>montbello</td></tr><tr><td>1</td><td>41</td><td>1</td><td>NULL</td><td>634</td><td>Trails at Parkfield Lake-Phase I</td><td>1</td><td>00174-04-008-008</td><td>1130</td><td>925</td><td>0</td><td>0</td><td>2002</td><td>AVG</td><td>C</td><td>1</td><td>1</td><td>None</td><td>0</td><td>NULL</td><td>1</td><td>1</td><td>2</td><td>NULL</td><td>MIDDLE UNIT</td><td>55000</td><td>1500</td><td>53500</td><td>53500</td><td>9</td><td>2011</td><td>Q</td><td>I</td><td>1</td><td>MONTBELLO</td><td>montbello</td><td>robbery</td><td>2011</td><td>9</td><td>6</td><td>montbello</td></tr><tr><td>1</td><td>41</td><td>1</td><td>NULL</td><td>634</td><td>Trails at Parkfield Lake-Phase I</td><td>1</td><td>00174-04-008-008</td><td>1130</td><td>925</td><td>0</td><td>0</td><td>2002</td><td>AVG</td><td>C</td><td>1</td><td>1</td><td>None</td><td>0</td><td>NULL</td><td>1</td><td>1</td><td>2</td><td>NULL</td><td>MIDDLE UNIT</td><td>55000</td><td>1500</td><td>53500</td><td>53500</td><td>9</td><td>2011</td><td>Q</td><td>I</td><td>1</td><td>MONTBELLO</td><td>montbello</td><td>burglary</td><td>2011</td><td>9</td><td>29</td><td>montbello</td></tr></table>"
                    },
                    "metadata": {}
                }
            ],
            "execution_count": 5
        }
    ]
}